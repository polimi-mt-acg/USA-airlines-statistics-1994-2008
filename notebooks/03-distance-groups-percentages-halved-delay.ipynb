{
 "cells": [
  {
   "cell_type": "markdown",
   "metadata": {},
   "source": [
    "# Percentages of flights belonging to a distance group that halved a delay\n",
    "\n",
    "In this notebook we compute the percentage of flights belonging to a given \"distance group\" that were able to halve their departure delays by the time they arrived at their destinations. Distance groups assort flights by their total distance in miles. Flights with distances that are less than 200 miles belong in group 1, flights with distances that are between 200 and 399 miles belong in group 2, flights with distances that are between 400 and 599 miles belong in group 3, and so on. The last group contains flights whose distances are between 2400 and 2599 miles.\n",
    "\n",
    "\n",
    "So basically:\n",
    "\n",
    "- By the _Distance_ attribute we can infer the flight group:\n",
    "\n",
    "\\begin{equation}\n",
    "FlightGroup = \\left( Distance // 200 \\right) + 1\n",
    "\\end{equation}\n",
    "\n",
    "- For each flight we can say if it has halved or not its delay:\n",
    "\n",
    "\n",
    "\\begin{equation}\n",
    "    DelayHalved=\n",
    "    \\begin{cases}\n",
    "      yes, & \\text{if}\\ \\left(DepDealy \\neq 0\\right) \\quad \\textrm{and} \\quad \\left(ArrDelay <= \\frac{DepDealy}{2} \\right)\\\\\n",
    "      no, & \\text{otherwise}\n",
    "    \\end{cases}\n",
    "\\end{equation}\n",
    "\n",
    "\n",
    "- So, for each flight group we can create two sets of flight: those that have halved their delays and the others\n",
    "\n",
    "### Assumptions\n",
    "\n",
    "- The last group, as the assignment states, is group ( 2599 // 200 ) + 1 = 13\n",
    "- Each flight not belonging to any group is not considered"
   ]
  },
  {
   "cell_type": "markdown",
   "metadata": {},
   "source": [
    "#### Execution mode\n",
    "\n",
    "If development mode is turned on, all the calculations will be performed on a reduced instance of the data set.\n",
    "\n",
    "This allows to *save computation time* while developing."
   ]
  },
  {
   "cell_type": "code",
   "execution_count": 1,
   "metadata": {},
   "outputs": [],
   "source": [
    "### development mode\n",
    "# False when performing real analytics\n",
    "DEV = True\n",
    "\n",
    "### threads to be used to run spark worker nodes locally\n",
    "spark_local_threads = 6  \n",
    "\n",
    "### max number of flights groups\n",
    "max_flight_group = 13"
   ]
  },
  {
   "cell_type": "markdown",
   "metadata": {},
   "source": [
    "#### Find and import Apache Spark on this machine"
   ]
  },
  {
   "cell_type": "code",
   "execution_count": 2,
   "metadata": {},
   "outputs": [],
   "source": [
    "import findspark\n",
    "findspark.init()"
   ]
  },
  {
   "cell_type": "code",
   "execution_count": 3,
   "metadata": {},
   "outputs": [],
   "source": [
    "# imports\n",
    "from pyspark.sql import SparkSession\n",
    "import pyspark.sql.functions as F\n",
    "from pyspark.sql.types import *\n",
    "import warnings; warnings.simplefilter('ignore')"
   ]
  },
  {
   "cell_type": "markdown",
   "metadata": {},
   "source": [
    "#### Create a new session"
   ]
  },
  {
   "cell_type": "code",
   "execution_count": 4,
   "metadata": {},
   "outputs": [],
   "source": [
    "# Build a Spark SQL Session for DataFrames\n",
    "master = 'local[{}]'.format(spark_local_threads)\n",
    "appName = 'Airport Distance Groups Percentages'\n",
    "spark = SparkSession \\\n",
    "    .builder \\\n",
    "    .appName(appName) \\\n",
    "    .master(master) \\\n",
    "    .getOrCreate()"
   ]
  },
  {
   "cell_type": "markdown",
   "metadata": {},
   "source": [
    "#### Load the data\n",
    "\n",
    "Try to load the optimized *parquet* format data set. If *parquet* data set is not found, load full compressed data sets, reduce and save them."
   ]
  },
  {
   "cell_type": "code",
   "execution_count": 5,
   "metadata": {
    "scrolled": true
   },
   "outputs": [
    {
     "name": "stdout",
     "output_type": "stream",
     "text": [
      "--------- DEV mode ON ---------\n",
      "Starting preprocessing of ../dataset/1994.csv.bz2\n",
      "Preprocessing NOT performed.\n",
      "Preprocessed dataset already exists: ../dataset/preprocessed_dataset_1994.parquet\n",
      "\n"
     ]
    }
   ],
   "source": [
    "from preprocessing_utils import *\n",
    "\n",
    "if DEV:\n",
    "    # DEV preprocessing\n",
    "    perform_DEV_dataset_preprocessing(spark)\n",
    "else:\n",
    "    # Production preprocessing\n",
    "    perform_dataset_preprocessing(spark)"
   ]
  },
  {
   "cell_type": "code",
   "execution_count": 6,
   "metadata": {},
   "outputs": [
    {
     "name": "stdout",
     "output_type": "stream",
     "text": [
      "--------- DEV mode ON ---------\n",
      "Peprocessed dataset loaded.\n",
      "../dataset/preprocessed_dataset_1994.parquet\n"
     ]
    }
   ],
   "source": [
    "# Load the parquet dataset\n",
    "\n",
    "if DEV:\n",
    "    # Load DEV dataset\n",
    "    df = load_DEV_preprocessed_dataset(spark)\n",
    "else:\n",
    "    # Load production dataset\n",
    "    df = load_preprocessed_dataset(spark)"
   ]
  },
  {
   "cell_type": "code",
   "execution_count": 7,
   "metadata": {},
   "outputs": [
    {
     "name": "stdout",
     "output_type": "stream",
     "text": [
      "root\n",
      " |-- Year: integer (nullable = true)\n",
      " |-- Month: integer (nullable = true)\n",
      " |-- DayofMonth: integer (nullable = true)\n",
      " |-- DayOfWeek: integer (nullable = true)\n",
      " |-- DepTime: string (nullable = true)\n",
      " |-- CRSDepTime: integer (nullable = true)\n",
      " |-- ArrTime: string (nullable = true)\n",
      " |-- CRSArrTime: integer (nullable = true)\n",
      " |-- UniqueCarrier: string (nullable = true)\n",
      " |-- FlightNum: integer (nullable = true)\n",
      " |-- TailNum: string (nullable = true)\n",
      " |-- ActualElapsedTime: string (nullable = true)\n",
      " |-- CRSElapsedTime: integer (nullable = true)\n",
      " |-- AirTime: string (nullable = true)\n",
      " |-- ArrDelay: integer (nullable = true)\n",
      " |-- DepDelay: integer (nullable = true)\n",
      " |-- Origin: string (nullable = true)\n",
      " |-- Dest: string (nullable = true)\n",
      " |-- Distance: integer (nullable = true)\n",
      " |-- TaxiIn: string (nullable = true)\n",
      " |-- TaxiOut: string (nullable = true)\n",
      " |-- Cancelled: integer (nullable = true)\n",
      " |-- CancellationCode: string (nullable = true)\n",
      " |-- Diverted: integer (nullable = true)\n",
      " |-- CarrierDelay: string (nullable = true)\n",
      " |-- WeatherDelay: string (nullable = true)\n",
      " |-- NASDelay: string (nullable = true)\n",
      " |-- SecurityDelay: string (nullable = true)\n",
      " |-- LateAircraftDelay: string (nullable = true)\n",
      "\n",
      "[Row(Year=1994, Month=3, DayofMonth=7, DayOfWeek=1, DepTime='1145', CRSDepTime=1145, ArrTime='1405', CRSArrTime=1405, UniqueCarrier='WN', FlightNum=1454, TailNum=None, ActualElapsedTime='80', CRSElapsedTime=80, AirTime=None, ArrDelay=0, DepDelay=0, Origin='STL', Dest='CLE', Distance=487, TaxiIn=None, TaxiOut=None, Cancelled=0, CancellationCode=None, Diverted=0, CarrierDelay=None, WeatherDelay=None, NASDelay=None, SecurityDelay=None, LateAircraftDelay=None), Row(Year=1994, Month=3, DayofMonth=8, DayOfWeek=2, DepTime='1150', CRSDepTime=1145, ArrTime='1403', CRSArrTime=1405, UniqueCarrier='WN', FlightNum=1454, TailNum=None, ActualElapsedTime='73', CRSElapsedTime=80, AirTime=None, ArrDelay=-2, DepDelay=5, Origin='STL', Dest='CLE', Distance=487, TaxiIn=None, TaxiOut=None, Cancelled=0, CancellationCode=None, Diverted=0, CarrierDelay=None, WeatherDelay=None, NASDelay=None, SecurityDelay=None, LateAircraftDelay=None)]\n"
     ]
    },
    {
     "data": {
      "text/plain": [
       "[('Year', 'int'),\n",
       " ('Month', 'int'),\n",
       " ('DayofMonth', 'int'),\n",
       " ('DayOfWeek', 'int'),\n",
       " ('DepTime', 'string'),\n",
       " ('CRSDepTime', 'int'),\n",
       " ('ArrTime', 'string'),\n",
       " ('CRSArrTime', 'int'),\n",
       " ('UniqueCarrier', 'string'),\n",
       " ('FlightNum', 'int'),\n",
       " ('TailNum', 'string'),\n",
       " ('ActualElapsedTime', 'string'),\n",
       " ('CRSElapsedTime', 'int'),\n",
       " ('AirTime', 'string'),\n",
       " ('ArrDelay', 'int'),\n",
       " ('DepDelay', 'int'),\n",
       " ('Origin', 'string'),\n",
       " ('Dest', 'string'),\n",
       " ('Distance', 'int'),\n",
       " ('TaxiIn', 'string'),\n",
       " ('TaxiOut', 'string'),\n",
       " ('Cancelled', 'int'),\n",
       " ('CancellationCode', 'string'),\n",
       " ('Diverted', 'int'),\n",
       " ('CarrierDelay', 'string'),\n",
       " ('WeatherDelay', 'string'),\n",
       " ('NASDelay', 'string'),\n",
       " ('SecurityDelay', 'string'),\n",
       " ('LateAircraftDelay', 'string')]"
      ]
     },
     "execution_count": 7,
     "metadata": {},
     "output_type": "execute_result"
    }
   ],
   "source": [
    "# Explore the data\n",
    "df.printSchema()\n",
    "print(df.head(2))\n",
    "df.dtypes"
   ]
  },
  {
   "cell_type": "code",
   "execution_count": 8,
   "metadata": {
    "scrolled": true
   },
   "outputs": [
    {
     "name": "stdout",
     "output_type": "stream",
     "text": [
      "# of rows \n",
      "\t BEFORE: 5180048\n",
      "\t  AFTER: 5078411\n",
      "\tDROPPED: 101637\n",
      "+--------+--------+--------+\n",
      "|ArrDelay|DepDelay|Distance|\n",
      "+--------+--------+--------+\n",
      "|       0|       0|     487|\n",
      "|      -2|       5|     487|\n",
      "|      -4|       0|     487|\n",
      "|      -3|       0|     487|\n",
      "|      -5|       0|     487|\n",
      "+--------+--------+--------+\n",
      "only showing top 5 rows\n",
      "\n"
     ]
    }
   ],
   "source": [
    "# Select useful attributes\n",
    "df = df.select(df['ArrDelay'], df['DepDelay'], df['Distance'])\n",
    "\n",
    "N_before = df.count() # 5180048\n",
    "# Drop null. Or maybe no! Maybe we can have the percentage of flights with missing values.\n",
    "df = df.dropna()\n",
    "N_after = df.count() # 5180048\n",
    "\n",
    "print(\"# of rows \\n\\t BEFORE: {}\\n\\t  AFTER: {}\\n\\tDROPPED: {}\".format(N_before, N_after, N_before-N_after))\n",
    "\n",
    "df.show(5)"
   ]
  },
  {
   "cell_type": "markdown",
   "metadata": {},
   "source": [
    "## FlightGroup"
   ]
  },
  {
   "cell_type": "markdown",
   "metadata": {},
   "source": [
    "#### Which is the maximum Distance?"
   ]
  },
  {
   "cell_type": "code",
   "execution_count": 9,
   "metadata": {
    "scrolled": true
   },
   "outputs": [],
   "source": [
    "if DEV and 0:\n",
    "    max_row = df.rdd.max(key=lambda x: int(x[\"Distance\"]))\n",
    "\n",
    "    print(max_row) # Row(ArrDelay='-13', DepDelay='6', Distance='4502')"
   ]
  },
  {
   "cell_type": "code",
   "execution_count": 10,
   "metadata": {},
   "outputs": [],
   "source": [
    "# df.dtypes"
   ]
  },
  {
   "cell_type": "code",
   "execution_count": 11,
   "metadata": {},
   "outputs": [],
   "source": [
    "# Calculate group\n",
    "df = df.withColumn(\"Group\", F.floor(df.Distance / 200) + 1)\n",
    "\n",
    "#df.show(100)\n",
    "#df.show()"
   ]
  },
  {
   "cell_type": "markdown",
   "metadata": {},
   "source": [
    "#### Cut out all the groups above the considered limit\n",
    "\n",
    "All flights that were categorized in groups above 13, will be dropped."
   ]
  },
  {
   "cell_type": "code",
   "execution_count": 12,
   "metadata": {},
   "outputs": [
    {
     "name": "stdout",
     "output_type": "stream",
     "text": [
      "# of rows \n",
      "\t BEFORE: 5078411\n",
      "\t  AFTER: 5062226\n",
      "\tDROPPED: 16185\n"
     ]
    }
   ],
   "source": [
    "N_before = df.count()\n",
    "# cut out all the groups above the considered limit\n",
    "df = df.filter(df.Group <= max_flight_group)\n",
    "N_after = df.count()\n",
    "\n",
    "print(\"# of rows \\n\\t BEFORE: {}\\n\\t  AFTER: {}\\n\\tDROPPED: {}\".format(N_before, N_after, N_before-N_after))"
   ]
  },
  {
   "cell_type": "markdown",
   "metadata": {},
   "source": [
    "## Delay was halved or not?"
   ]
  },
  {
   "cell_type": "code",
   "execution_count": 13,
   "metadata": {},
   "outputs": [
    {
     "name": "stdout",
     "output_type": "stream",
     "text": [
      "+--------+--------+--------+-----+-----------+\n",
      "|ArrDelay|DepDelay|Distance|Group|DelayHalved|\n",
      "+--------+--------+--------+-----+-----------+\n",
      "|       0|       0|     487|    3|         no|\n",
      "|      -2|       5|     487|    3|        yes|\n",
      "|      -4|       0|     487|    3|         no|\n",
      "|      -3|       0|     487|    3|         no|\n",
      "|      -5|       0|     487|    3|         no|\n",
      "|      15|      24|     487|    3|         no|\n",
      "|      -1|       0|     487|    3|         no|\n",
      "|     -10|       0|     487|    3|         no|\n",
      "|       5|       0|     487|    3|         no|\n",
      "|       2|       3|     487|    3|         no|\n",
      "|      13|      15|     487|    3|         no|\n",
      "|       3|       7|     487|    3|        yes|\n",
      "|       1|       5|     487|    3|        yes|\n",
      "|      -5|       0|     487|    3|         no|\n",
      "|      -2|       0|     487|    3|         no|\n",
      "|      -3|       0|     487|    3|         no|\n",
      "|     -10|       0|     487|    3|         no|\n",
      "|       4|      15|     487|    3|        yes|\n",
      "|       0|       0|     487|    3|         no|\n",
      "|      -3|       6|     487|    3|        yes|\n",
      "+--------+--------+--------+-----+-----------+\n",
      "only showing top 20 rows\n",
      "\n"
     ]
    }
   ],
   "source": [
    "def delay_halved(args):\n",
    "    dep_delay, arr_delay = args[0], args[1]\n",
    "    \n",
    "    # case in which the flight was departed on time\n",
    "    # it cannot happen that it is able to halve its delay. There's no delay!\n",
    "    if dep_delay == 0:\n",
    "        return 'no'\n",
    "    \n",
    "    if arr_delay <=  (dep_delay / 2):\n",
    "        return 'yes'\n",
    "    \n",
    "    # delay was not halved: arr_delay > dep_delay / 2\n",
    "    return 'no'\n",
    "\n",
    "delay_halved = F.udf(delay_halved, StringType())\n",
    "\n",
    "# Calculate if the delay was halved or not\n",
    "df = df.withColumn(\"DelayHalved\", delay_halved(F.array('DepDelay', 'ArrDelay')))\n",
    "\n",
    "df.show()"
   ]
  },
  {
   "cell_type": "code",
   "execution_count": 14,
   "metadata": {},
   "outputs": [
    {
     "name": "stdout",
     "output_type": "stream",
     "text": [
      "+-----+-----------+----------------+\n",
      "|Group|DelayHalved|DelayHalvedCount|\n",
      "+-----+-----------+----------------+\n",
      "|    1|         no|          338014|\n",
      "|    1|        yes|          199997|\n",
      "|    2|         no|          970216|\n",
      "|    2|        yes|          470533|\n",
      "|    3|         no|          576346|\n",
      "|    3|        yes|          345553|\n",
      "|    4|         no|          389029|\n",
      "|    4|        yes|          241570|\n",
      "|    5|         no|          322100|\n",
      "|    5|        yes|          212378|\n",
      "|    6|         no|          208610|\n",
      "|    6|        yes|          132113|\n",
      "|    7|         no|           91235|\n",
      "|    7|        yes|           57649|\n",
      "|    8|         no|          108068|\n",
      "|    8|        yes|           69699|\n",
      "|    9|         no|           72380|\n",
      "|    9|        yes|           52282|\n",
      "|   10|         no|           35101|\n",
      "|   10|        yes|           30609|\n",
      "|   11|         no|           24798|\n",
      "|   11|        yes|           17400|\n",
      "|   12|         no|           18589|\n",
      "|   12|        yes|           13968|\n",
      "|   13|         no|           37059|\n",
      "|   13|        yes|           26930|\n",
      "+-----+-----------+----------------+\n",
      "\n"
     ]
    }
   ],
   "source": [
    "# create count support column\n",
    "df = df.withColumn(\"DelayHalvedCount\", F.lit(1))\n",
    "\n",
    "df_perc = df.groupBy('Group', 'DelayHalved')                                  \\\n",
    "            .sum('DelayHalvedCount')                                          \\\n",
    "            .withColumnRenamed('sum(DelayHalvedCount)', 'DelayHalvedCount')   \\\n",
    "            .orderBy('Group', 'DelayHalved')\n",
    "\n",
    "# data frame rows should be only 13*2 rows, feasible to retrieve a pandas.DataFrame\n",
    "pdf_perc = df_perc.toPandas()\n",
    "\n",
    "df_perc.show(30)"
   ]
  },
  {
   "cell_type": "code",
   "execution_count": 15,
   "metadata": {},
   "outputs": [
    {
     "name": "stdout",
     "output_type": "stream",
     "text": [
      "+-----+----------------+\n",
      "|Group|DelayHalvedCount|\n",
      "+-----+----------------+\n",
      "|    1|          538011|\n",
      "|    2|         1440749|\n",
      "|    3|          921899|\n",
      "|    4|          630599|\n",
      "|    5|          534478|\n",
      "|    6|          340723|\n",
      "|    7|          148884|\n",
      "|    8|          177767|\n",
      "|    9|          124662|\n",
      "|   10|           65710|\n",
      "|   11|           42198|\n",
      "|   12|           32557|\n",
      "|   13|           63989|\n",
      "+-----+----------------+\n",
      "\n"
     ]
    }
   ],
   "source": [
    "# calculate total number of flights just as a cross check \n",
    "df_total = df.groupBy('Group', 'DelayHalvedCount')                              \\\n",
    "                .sum('DelayHalvedCount')                                        \\\n",
    "                .drop('DelayHalvedCount')                                       \\\n",
    "                .withColumnRenamed('sum(DelayHalvedCount)', 'DelayHalvedCount') \\\n",
    "                .orderBy('Group')\n",
    "\n",
    "# data frame rows should be only 13 rows, feasible to retrieve a pandas.DataFrame\n",
    "pdf_total = df_total.toPandas()\n",
    "\n",
    "df_total.show(15)"
   ]
  },
  {
   "cell_type": "code",
   "execution_count": 16,
   "metadata": {},
   "outputs": [
    {
     "name": "stdout",
     "output_type": "stream",
     "text": [
      "asserting: 538011 == 338014 + 199997\n",
      "asserting: 1440749 == 970216 + 470533\n",
      "asserting: 921899 == 576346 + 345553\n",
      "asserting: 630599 == 389029 + 241570\n",
      "asserting: 534478 == 322100 + 212378\n",
      "asserting: 340723 == 208610 + 132113\n",
      "asserting: 148884 == 91235 + 57649\n",
      "asserting: 177767 == 108068 + 69699\n",
      "asserting: 124662 == 72380 + 52282\n",
      "asserting: 65710 == 35101 + 30609\n",
      "asserting: 42198 == 24798 + 17400\n",
      "asserting: 32557 == 18589 + 13968\n",
      "asserting: 63989 == 37059 + 26930\n"
     ]
    }
   ],
   "source": [
    "# Check sum of yes and no for halved delay correspond to the total number of flights of the group\n",
    "for i, row in pdf_total.iterrows():\n",
    "    row_p_no = pdf_perc.iloc[i*2]\n",
    "    row_p_yes = pdf_perc.iloc[i*2+1]\n",
    "    print(\"asserting: {} == {} + {}\".format(row['DelayHalvedCount'], row_p_no['DelayHalvedCount'], row_p_yes['DelayHalvedCount']))\n",
    "    assert(row['DelayHalvedCount'] == row_p_no['DelayHalvedCount'] + row_p_yes['DelayHalvedCount'])"
   ]
  }
 ],
 "metadata": {
  "kernelspec": {
   "display_name": "Python 3",
   "language": "python",
   "name": "python3"
  },
  "language_info": {
   "codemirror_mode": {
    "name": "ipython",
    "version": 3
   },
   "file_extension": ".py",
   "mimetype": "text/x-python",
   "name": "python",
   "nbconvert_exporter": "python",
   "pygments_lexer": "ipython3",
   "version": "3.5.2"
  }
 },
 "nbformat": 4,
 "nbformat_minor": 2
}
