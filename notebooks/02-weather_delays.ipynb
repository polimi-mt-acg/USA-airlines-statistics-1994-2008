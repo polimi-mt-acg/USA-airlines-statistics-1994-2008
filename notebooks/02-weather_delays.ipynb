{
 "cells": [
  {
   "cell_type": "markdown",
   "metadata": {},
   "source": [
    "## **Airport weekly percentage of weather delays over total delays**"
   ]
  },
  {
   "cell_type": "markdown",
   "metadata": {},
   "source": [
    "In this notebook we are computing a weekly percentage of the flights that had a delay due to weather. The percentage is computed as the ratio between the number of flights with a weather delay and the total number of flights with a delay."
   ]
  },
  {
   "cell_type": "code",
   "execution_count": null,
   "metadata": {},
   "outputs": [],
   "source": []
  },
  {
   "cell_type": "markdown",
   "metadata": {},
   "source": [
    "#### **Initialize PySpark**"
   ]
  },
  {
   "cell_type": "code",
   "execution_count": null,
   "metadata": {},
   "outputs": [],
   "source": [
    "# Find Apache Spark on this machine\n",
    "import findspark\n",
    "findspark.init()"
   ]
  },
  {
   "cell_type": "code",
   "execution_count": 2,
   "metadata": {},
   "outputs": [],
   "source": [
    "from pyspark.sql import SparkSession\n",
    "\n",
    "# Dev mode: False when performing real analytics\n",
    "DEV = False\n",
    "\n",
    "# Build a Spark SQL Session for DataFrames\n",
    "master = 'local[2]'\n",
    "appName = 'Cancelled flights percentages'\n",
    "spark = SparkSession \\\n",
    "    .builder \\\n",
    "    .appName(appName) \\\n",
    "    .master(master) \\\n",
    "    .getOrCreate()"
   ]
  },
  {
   "cell_type": "markdown",
   "metadata": {},
   "source": [
    "#### **Load Data**"
   ]
  },
  {
   "cell_type": "markdown",
   "metadata": {},
   "source": [
    "Try to load the optimized parquet format data set. If parquet data set is not found, load full compressed data sets, reduce and save them."
   ]
  },
  {
   "cell_type": "code",
   "execution_count": 3,
   "metadata": {},
   "outputs": [
    {
     "name": "stdout",
     "output_type": "stream",
     "text": [
      "Starting preprocessing of ../dataset/*.csv.bz2\n",
      "Preprocessing NOT performed.\n",
      "Preprocessed dataset already exists: ../dataset/preprocessed_dataset.parquet\n",
      "\n"
     ]
    }
   ],
   "source": [
    "from preprocessing_utils import *\n",
    "if DEV:\n",
    "    # DEV preprocessing\n",
    "    perform_DEV_dataset_preprocessing(spark)\n",
    "else:\n",
    "    # Production preprocessing\n",
    "    perform_dataset_preprocessing(spark)"
   ]
  },
  {
   "cell_type": "code",
   "execution_count": 4,
   "metadata": {},
   "outputs": [
    {
     "name": "stdout",
     "output_type": "stream",
     "text": [
      "Peprocessed dataset loaded.\n",
      "../dataset/preprocessed_dataset.parquet\n"
     ]
    }
   ],
   "source": [
    "# Load the parquet dataset\n",
    "if DEV:\n",
    "    # Load DEV dataset\n",
    "    df = load_DEV_preprocessed_dataset(spark)\n",
    "else:\n",
    "    # Load production dataset\n",
    "    df = load_preprocessed_dataset(spark)"
   ]
  },
  {
   "cell_type": "code",
   "execution_count": 5,
   "metadata": {},
   "outputs": [
    {
     "name": "stdout",
     "output_type": "stream",
     "text": [
      "+-------+-----------------+\n",
      "|summary|     WeatherDelay|\n",
      "+-------+-----------------+\n",
      "|  count|         34205536|\n",
      "|   mean|0.788340635854968|\n",
      "| stddev|9.434347179856653|\n",
      "|    min|                0|\n",
      "|    max|              997|\n",
      "+-------+-----------------+\n",
      "\n"
     ]
    }
   ],
   "source": [
    "df.describe('WeatherDelay').show()"
   ]
  },
  {
   "cell_type": "code",
   "execution_count": 6,
   "metadata": {},
   "outputs": [
    {
     "name": "stdout",
     "output_type": "stream",
     "text": [
      "root\n",
      " |-- DayOfWeek: integer (nullable = true)\n",
      " |-- Year: integer (nullable = true)\n",
      " |-- Month: integer (nullable = true)\n",
      " |-- DayofMonth: integer (nullable = true)\n",
      " |-- CarrierDelay: string (nullable = true)\n",
      " |-- WeatherDelay: string (nullable = true)\n",
      " |-- NASDelay: string (nullable = true)\n",
      " |-- SecurityDelay: string (nullable = true)\n",
      " |-- LateAircraftDelay: string (nullable = true)\n",
      " |-- Cancelled: integer (nullable = true)\n",
      "\n",
      "+---------+----+-----+----------+------------+------------+--------+-------------+-----------------+---------+\n",
      "|DayOfWeek|Year|Month|DayofMonth|CarrierDelay|WeatherDelay|NASDelay|SecurityDelay|LateAircraftDelay|Cancelled|\n",
      "+---------+----+-----+----------+------------+------------+--------+-------------+-----------------+---------+\n",
      "|        1|2007|    1|         1|           0|           0|       0|            0|                0|        0|\n",
      "|        1|2007|    1|         1|           0|           0|       0|            0|                0|        0|\n",
      "|        1|2007|    1|         1|           3|           0|       0|            0|               31|        0|\n",
      "|        1|2007|    1|         1|          23|           0|       0|            0|                3|        0|\n",
      "|        1|2007|    1|         1|           0|           0|       0|            0|                0|        0|\n",
      "|        1|2007|    1|         1|           0|           0|       0|            0|                0|        0|\n",
      "|        1|2007|    1|         1|          46|           0|       0|            0|                1|        0|\n",
      "|        1|2007|    1|         1|           0|           0|       0|            0|                0|        0|\n",
      "|        1|2007|    1|         1|          20|           0|       0|            0|               24|        0|\n",
      "|        1|2007|    1|         1|           0|           0|       0|            0|                0|        0|\n",
      "+---------+----+-----+----------+------------+------------+--------+-------------+-----------------+---------+\n",
      "only showing top 10 rows\n",
      "\n"
     ]
    }
   ],
   "source": [
    "# Keep only the dimensions we need\n",
    "df = df.select('DayOfWeek', 'Year', 'Month' ,'DayofMonth','CarrierDelay', 'WeatherDelay','NASDelay','SecurityDelay','LateAircraftDelay', 'Cancelled')\n",
    "\n",
    "# Explore the data\n",
    "df.printSchema()\n",
    "df.show(10)"
   ]
  },
  {
   "cell_type": "markdown",
   "metadata": {},
   "source": [
    "#### **Compute weekly-percentage analytics**"
   ]
  },
  {
   "cell_type": "code",
   "execution_count": 7,
   "metadata": {},
   "outputs": [
    {
     "name": "stdout",
     "output_type": "stream",
     "text": [
      "+-------------------+--------+------------+------------+--------+-------------+-----------------+\n",
      "|               Date|WeekYear|CarrierDelay|WeatherDelay|NASDelay|SecurityDelay|LateAircraftDelay|\n",
      "+-------------------+--------+------------+------------+--------+-------------+-----------------+\n",
      "|2007-01-01 00:00:00|       1|           0|           0|       0|            0|                0|\n",
      "|2007-01-01 00:00:00|       1|           0|           0|       0|            0|                0|\n",
      "|2007-01-01 00:00:00|       1|           3|           0|       0|            0|               31|\n",
      "|2007-01-01 00:00:00|       1|          23|           0|       0|            0|                3|\n",
      "|2007-01-01 00:00:00|       1|           0|           0|       0|            0|                0|\n",
      "|2007-01-01 00:00:00|       1|           0|           0|       0|            0|                0|\n",
      "|2007-01-01 00:00:00|       1|          46|           0|       0|            0|                1|\n",
      "|2007-01-01 00:00:00|       1|           0|           0|       0|            0|                0|\n",
      "|2007-01-01 00:00:00|       1|          20|           0|       0|            0|               24|\n",
      "|2007-01-01 00:00:00|       1|           0|           0|       0|            0|                0|\n",
      "+-------------------+--------+------------+------------+--------+-------------+-----------------+\n",
      "only showing top 10 rows\n",
      "\n"
     ]
    }
   ],
   "source": [
    "# Drop cancelled flights\n",
    "df = df.drop(df['Cancelled'] == 1)\n",
    "\n",
    "\n",
    "# Parse dates to datetime format\n",
    "import datetime\n",
    "import pyspark.sql.functions as F\n",
    "from pyspark.sql.types import TimestampType, IntegerType\n",
    "\n",
    "make_date = lambda year, month, day : datetime.datetime(year, month, day) \n",
    "make_date = F.udf(make_date, TimestampType())\n",
    "\n",
    "week_year = lambda date : date.isocalendar()[1]\n",
    "week_year = F.udf(week_year, IntegerType())\n",
    "\n",
    "df = df.select(make_date(df['Year'], df['Month'], df['DayofMonth']).alias('Date'), \\\n",
    "               'DayOfWeek', 'CarrierDelay', 'WeatherDelay','NASDelay','SecurityDelay','LateAircraftDelay')\n",
    "df = df.select('Date', week_year('Date').alias('WeekYear'), 'CarrierDelay', 'WeatherDelay','NASDelay','SecurityDelay','LateAircraftDelay')\n",
    "df.show(10)"
   ]
  },
  {
   "cell_type": "code",
   "execution_count": 19,
   "metadata": {},
   "outputs": [
    {
     "name": "stdout",
     "output_type": "stream",
     "text": [
      "+-------------------+--------+------------+------------+--------+-------------+-----------------+\n",
      "|               Date|WeekYear|CarrierDelay|WeatherDelay|NASDelay|SecurityDelay|LateAircraftDelay|\n",
      "+-------------------+--------+------------+------------+--------+-------------+-----------------+\n",
      "|2007-01-02 00:00:00|       1|           0|          13|      14|            0|               14|\n",
      "|2007-01-02 00:00:00|       1|           0|          14|      38|            0|               43|\n",
      "|2007-01-02 00:00:00|       1|           0|           5|       9|            0|                3|\n",
      "|2007-01-02 00:00:00|       1|           0|          11|       0|            0|                9|\n",
      "|2007-01-02 00:00:00|       1|           0|           7|      36|            0|               12|\n",
      "|2007-01-02 00:00:00|       1|           0|          26|      12|            0|                0|\n",
      "|2007-01-02 00:00:00|       1|           0|          29|      10|            0|                0|\n",
      "|2007-01-02 00:00:00|       1|           0|          10|       0|            0|               20|\n",
      "|2007-01-02 00:00:00|       1|           0|          92|       0|            0|               24|\n",
      "|2007-01-03 00:00:00|       1|           0|           4|      10|            0|               20|\n",
      "+-------------------+--------+------------+------------+--------+-------------+-----------------+\n",
      "only showing top 10 rows\n",
      "\n",
      "+----+--------+-------------+\n",
      "|Year|WeekYear|weather_count|\n",
      "+----+--------+-------------+\n",
      "|2008|      35|         1413|\n",
      "|2005|      29|         3018|\n",
      "|2005|      49|         3513|\n",
      "|2007|       6|         2165|\n",
      "|2007|      52|         3271|\n",
      "|2005|       5|         1267|\n",
      "|2007|      28|         2940|\n",
      "|2005|      51|         1584|\n",
      "|2005|      25|         1653|\n",
      "|2008|      28|         3249|\n",
      "+----+--------+-------------+\n",
      "only showing top 10 rows\n",
      "\n",
      "+----+--------+-------------+\n",
      "|Year|WeekYear|general_count|\n",
      "+----+--------+-------------+\n",
      "|2008|      35|        19977|\n",
      "|2005|      29|        37064|\n",
      "|2005|      49|        34575|\n",
      "|2007|       6|        31743|\n",
      "|2007|      52|        47949|\n",
      "|2005|       5|        19279|\n",
      "|2007|      28|        42737|\n",
      "|2005|      51|        32616|\n",
      "|2005|      25|        26598|\n",
      "|2008|      28|        39097|\n",
      "+----+--------+-------------+\n",
      "only showing top 10 rows\n",
      "\n"
     ]
    }
   ],
   "source": [
    "# Flights that have a WeatherDelay\n",
    "weather_delayed_flights = df.filter(df['WeatherDelay'] > 0)\n",
    "#weather_delayed_flights = df.filter( df['WeatherDelay'].isNotNull() )\n",
    "weather_delayed_flights.show(10)\n",
    "\n",
    "# Flights that have a Delay\n",
    "delayed_flights = df.filter((df['CarrierDelay'] > 0) | (df['WeatherDelay'] > 0) | (df['NASDelay'] > 0) | (df['SecurityDelay'] > 0) | (df['LateAircraftDelay'] > 0))\n",
    "#delayed_flights = df.filter((df['CarrierDelay'].isNotNull()) | (df['WeatherDelay'].isNotNull()) | (df['NASDelay'].isNotNull()) | (df['SecurityDelay'].isNotNull()) | (df['LateAircraftDelay'].isNotNull()))\n",
    "\n",
    "# Number of times per week flights had a weather delay or a general delay  \n",
    "weather_delays = weather_delayed_flights.groupBy([F.year('Date').alias('Year'), 'WeekYear']).count()\n",
    "general_delays = delayed_flights.groupBy([F.year('Date').alias('Year'), 'WeekYear']).count()\n",
    "                            \n",
    "weather_delays = weather_delays.select('Year', 'WeekYear', weather_delays['count'].alias('weather_count'))\n",
    "general_delays = general_delays.select('Year', 'WeekYear', general_delays['count'].alias('general_count'))\n",
    "\n",
    "                            \n",
    "weather_delays.show(10)\n",
    "general_delays.show(10)"
   ]
  },
  {
   "cell_type": "code",
   "execution_count": 9,
   "metadata": {},
   "outputs": [
    {
     "name": "stdout",
     "output_type": "stream",
     "text": [
      "+----+--------+-------------+-------------+\n",
      "|Year|WeekYear|weather_count|general_count|\n",
      "+----+--------+-------------+-------------+\n",
      "|2008|      35|         1413|        19977|\n",
      "|2005|      29|         3018|        37064|\n",
      "|2005|      49|         3513|        34575|\n",
      "|2005|       5|         1267|        19279|\n",
      "|2007|       6|         2165|        31743|\n",
      "|2007|      52|         3271|        47949|\n",
      "|2007|      28|         2940|        42737|\n",
      "|2005|      51|         1584|        32616|\n",
      "|2005|      25|         1653|        26598|\n",
      "|2005|      22|         2670|        26607|\n",
      "+----+--------+-------------+-------------+\n",
      "only showing top 10 rows\n",
      "\n"
     ]
    }
   ],
   "source": [
    "# Join the tables\n",
    "percentage_weather_delays = weather_delays \\\n",
    "                .join(general_delays, [\"Year\",\"WeekYear\"])\n",
    "    \n",
    "percentage_weather_delays.show(10)"
   ]
  },
  {
   "cell_type": "code",
   "execution_count": 10,
   "metadata": {},
   "outputs": [
    {
     "name": "stdout",
     "output_type": "stream",
     "text": [
      "+----+--------+-------------+-------------+-------------------+\n",
      "|Year|WeekYear|weather_count|general_count|WeeklyWeatherDelays|\n",
      "+----+--------+-------------+-------------+-------------------+\n",
      "|2008|      35|         1413|        19977|  7.073134104219853|\n",
      "|2005|      29|         3018|        37064|  8.142672134685949|\n",
      "|2005|      49|         3513|        34575| 10.160520607375272|\n",
      "|2005|       5|         1267|        19279|  6.571917630582499|\n",
      "|2007|       6|         2165|        31743|  6.820401348328765|\n",
      "|2007|      52|         3271|        47949|   6.82183152933325|\n",
      "|2007|      28|         2940|        42737| 6.8792849287502635|\n",
      "|2005|      51|         1584|        32616|  4.856512141280353|\n",
      "|2005|      25|         1653|        26598|  6.214752988946538|\n",
      "|2005|      22|         2670|        26607| 10.034953207802458|\n",
      "+----+--------+-------------+-------------+-------------------+\n",
      "only showing top 10 rows\n",
      "\n"
     ]
    }
   ],
   "source": [
    "# Compute the weekly percentage\n",
    "percentage_weather_delays = percentage_weather_delays.withColumn(\"WeeklyWeatherDelays\", (F.col(\"weather_count\") / F.col(\"general_count\"))*100)\n",
    "#['WeeklyWeatherDelays']= percentage_weather_delays['weather_count'] / percentage_weather_delays['general_count']\n",
    "percentage_weather_delays.show(10)"
   ]
  },
  {
   "cell_type": "code",
   "execution_count": 11,
   "metadata": {},
   "outputs": [
    {
     "name": "stdout",
     "output_type": "stream",
     "text": [
      "+----+--------+-------------------+\n",
      "|Year|WeekYear|WeeklyWeatherDelays|\n",
      "+----+--------+-------------------+\n",
      "|2008|      35|  7.073134104219853|\n",
      "|2005|      29|  8.142672134685949|\n",
      "|2005|      49| 10.160520607375272|\n",
      "|2005|       5|  6.571917630582499|\n",
      "|2007|       6|  6.820401348328765|\n",
      "|2007|      52|   6.82183152933325|\n",
      "|2007|      28| 6.8792849287502635|\n",
      "|2005|      51|  4.856512141280353|\n",
      "|2005|      25|  6.214752988946538|\n",
      "|2005|      22| 10.034953207802458|\n",
      "+----+--------+-------------------+\n",
      "only showing top 10 rows\n",
      "\n"
     ]
    }
   ],
   "source": [
    "# Select the only interesting columns\n",
    "percentage_weather_delays = percentage_weather_delays.select('Year','WeekYear','WeeklyWeatherDelays')\n",
    "percentage_weather_delays.show(10)"
   ]
  },
  {
   "cell_type": "code",
   "execution_count": 12,
   "metadata": {},
   "outputs": [],
   "source": [
    "# Store output Dataframe (or load it if already existing)\n",
    "final_dataset = '../dataset/weather_analitics.parquet'\n",
    "\n",
    "path= Path(final_dataset)\n",
    "if not path.is_dir():\n",
    "    percentage_weather_delays.write.mode('overwrite').save(final_dataset, format='parquet')\n",
    "\n",
    "percentage_weather_delays = spark.read.load(final_dataset)"
   ]
  },
  {
   "cell_type": "code",
   "execution_count": 13,
   "metadata": {},
   "outputs": [
    {
     "name": "stdout",
     "output_type": "stream",
     "text": [
      "[(2004, 10, 7.121929231462699), (2004, 21, 7.970719804798698), (2005, 27, 12.13394408466277), (2006, 7, 9.886998173975178), (2007, 10, 4.322437747499832), (2007, 39, 4.041279047870137), (2007, 46, 2.931301165729807), (2004, 14, 4.02222036588422), (2005, 33, 8.417347226133485), (2006, 40, 5.629741512478116), (2006, 45, 6.568258028831196), (2006, 51, 8.151115439093484), (2008, 6, 7.388503054137729), (2005, 22, 10.034953207802458), (2005, 28, 13.43185200935573), (2008, 28, 8.310100519221423), (2004, 4, 8.2752417360018), (2006, 10, 6.119512643115166), (2006, 33, 5.341368777346652), (2006, 37, 9.046588627890607), (2004, 7, 7.465178944172454), (2004, 16, 6.446151304922365), (2008, 39, 4.478128061783183), (2008, 47, 2.767121564681467), (2003, 35, 9.330033910732288), (2005, 32, 9.773180458624127), (2005, 34, 5.0933321162886225), (2005, 5, 6.571917630582499), (2007, 6, 6.820401348328765), (2007, 52, 6.82183152933325), (2003, 32, 9.336209506509235), (2004, 6, 10.386727070894963), (2004, 38, 6.639432573172921), (2004, 27, 11.37013634852012), (2004, 49, 4.798404442532556), (2007, 44, 1.9496246064422378), (2005, 13, 8.278683593044942), (2005, 45, 3.878539101147248), (2006, 38, 6.459948320413436), (2003, 33, 7.296304976173737), (2003, 36, 5.338056176982351), (2007, 48, 6.45956607495069), (2007, 21, 6.55167890870934), (2008, 20, 4.189731900575274), (2008, 52, 10.5614668243005), (2004, 24, 10.595607680809474), (2006, 30, 7.578086402810562), (2007, 30, 7.435332328036191), (2005, 7, 5.29606351306649), (2007, 4, 5.135863626429664), (2008, 7, 8.851686888854758), (2004, 8, 4.24116973487184), (2004, 22, 8.2755448627229), (2004, 30, 6.9613716174344145), (2004, 9, 9.09748038000826), (2005, 24, 5.605105335998769), (2007, 23, 6.375550402542925), (2008, 42, 3.121129551647263), (2005, 41, 8.959016091615421), (2005, 53, 4.1120318892268966), (2006, 35, 7.2954861550132755), (2008, 37, 6.470429866283765), (2003, 31, 9.991791657339004), (2004, 26, 12.015816249433335), (2005, 2, 8.48173766079309), (2006, 14, 6.437674936818935), (2004, 23, 7.951907131011608), (2007, 43, 5.146777375379089), (2007, 50, 10.811698210558408), (2008, 1, 5.4139674674573035), (2005, 19, 5.649770013473958), (2005, 23, 8.528711299285526), (2006, 24, 7.4512267476355), (2008, 45, 2.9719061992105873), (2006, 27, 9.87515780614392), (2007, 35, 7.894636088671082), (2008, 25, 9.49722170026575), (2008, 40, 3.0765792610250298), (2007, 19, 6.705950401272504), (2007, 32, 6.046511627906977), (2004, 33, 6.775960328621124), (2004, 43, 8.778118313768577), (2003, 22, 4.550321199143468), (2003, 49, 7.597581909097693), (2008, 29, 4.8550851923414715), (2008, 43, 4.161912523770715), (2006, 1, 7.978184419145258), (2006, 29, 9.186057832732937), (2004, 13, 3.2844199330313177), (2004, 34, 10.28356561335725), (2006, 3, 7.9784573956530105), (2006, 42, 7.056226710654356), (2005, 29, 8.142672134685949), (2005, 49, 10.160520607375272), (2008, 21, 3.7338563445953445), (2008, 49, 5.963969199476972), (2008, 9, 5.759261004807239), (2008, 51, 13.10816978548608), (2004, 3, 10.169622502994475), (2006, 8, 6.405353728489484)]\n"
     ]
    }
   ],
   "source": [
    "# Output a list of tuples of schema:\n",
    "# ('Year', 'WeekYear', 'Percentage')\n",
    "weather_data = percentage_weather_delays.rdd.map(tuple).collect()\n",
    "print(weather_data[:100])"
   ]
  },
  {
   "cell_type": "markdown",
   "metadata": {},
   "source": [
    "## **Data Visualization**"
   ]
  },
  {
   "cell_type": "markdown",
   "metadata": {},
   "source": [
    "Analytics for weekly percentage of flights delayed due to weather are reported below.\n",
    "\n",
    "A line plot is used to display percentages as a time series. On the x axis the week number is reported, while on the y axis we show the weekly percentage.\n",
    "\n",
    "Moreover, a bar plot is chosen to display the yearly average weekly-percentage of flights with weather_delays."
   ]
  },
  {
   "cell_type": "code",
   "execution_count": 14,
   "metadata": {},
   "outputs": [],
   "source": [
    "# Hide warnings if there are any\n",
    "import warnings\n",
    "warnings.filterwarnings('ignore')\n",
    "\n",
    "%matplotlib inline\n",
    "\n",
    "from __future__ import print_function\n",
    "from ipywidgets import interact, interactive, fixed, interact_manual\n",
    "import ipywidgets as widgets\n",
    "\n",
    "import numpy as np\n",
    "import pandas as pd\n",
    "import seaborn as sns\n",
    "import matplotlib.pyplot as plt"
   ]
  },
  {
   "cell_type": "markdown",
   "metadata": {},
   "source": [
    "##### **Weekly percentages over a year analytics**"
   ]
  },
  {
   "cell_type": "code",
   "execution_count": 15,
   "metadata": {},
   "outputs": [],
   "source": [
    "def get_pd_dataframe( years, df):\n",
    "    rows = df.filter(F.col('Year').isin(*years)) \\\n",
    "             .select('Year', 'WeekYear', 'WeeklyWeatherDelays') \\\n",
    "             .orderBy('Year', 'WeekYear') \\\n",
    "             .collect()\n",
    "    \n",
    "    nb_years = len(years)\n",
    "    nb_weeks = 52\n",
    "    data = np.zeros((nb_weeks, nb_years))\n",
    "    for row in rows:\n",
    "        year = row[0] - years[0]\n",
    "        week = row[1] - 1\n",
    "        per = row[2]\n",
    "\n",
    "        if week > 51: continue\n",
    "        data[week, year] = per\n",
    "    columns = [str(y) for y in years]\n",
    "    indices = range(1, 53)\n",
    "    res = pd.DataFrame(data=data, columns=columns, index=indices)\n",
    "    return res\n",
    "\n",
    "def plot_weather_time_series(years, df, ax):\n",
    "    df = get_pd_dataframe(years, df)\n",
    "    title = 'Weekly weather delays percentage'\n",
    "    if df.empty:\n",
    "        print('No data')\n",
    "    else:\n",
    "        print(df)\n",
    "        df.plot(title=title, grid=True, xticks=range(0, 53, 4), ax=ax)"
   ]
  },
  {
   "cell_type": "markdown",
   "metadata": {},
   "source": [
    "##### **Average percentage in a year**"
   ]
  },
  {
   "cell_type": "code",
   "execution_count": 16,
   "metadata": {},
   "outputs": [],
   "source": [
    "def get_average_df(years, df):\n",
    "    rows = df.filter(F.col('Year').isin(*years)) \\\n",
    "             .groupBy('Year') \\\n",
    "             .avg('WeeklyWeatherDelays') \\\n",
    "             .withColumnRenamed('avg(WeeklyWeatherDelays)', 'AverageWeatherDelaysPercentage') \\\n",
    "             .select('Year', 'AverageWeatherDelaysPercentage') \\\n",
    "             .collect()\n",
    "    \n",
    "    nb_years = len(years)\n",
    "    data = np.zeros(nb_years)\n",
    "    for row in rows:\n",
    "        year = row[0] - years[0]\n",
    "        avg_pen = row[1]\n",
    "        data[year] = avg_pen \n",
    "    res = pd.DataFrame({'Weather delays': data}, index=years)\n",
    "    return res\n",
    "\n",
    "def plot_average_weather_delays(years, df, ax):\n",
    "    df = get_average_df( years, df)\n",
    "    title = 'Average weather delays percentage'\n",
    "    if df.empty:\n",
    "        print('No data')\n",
    "    else:\n",
    "        print(df)\n",
    "        df.plot.bar( title=title, rot=90, ax=ax)"
   ]
  },
  {
   "cell_type": "code",
   "execution_count": 17,
   "metadata": {},
   "outputs": [],
   "source": [
    "def ui_callback( years, df):\n",
    "    plt.figure(figsize=(15,12))\n",
    "    plt.clf()\n",
    "    ax = plt.subplot(211)\n",
    "    plot_weather_time_series(range(years[0], years[1] + 1), df, ax)\n",
    "    \n",
    "    ax = plt.subplot(212)\n",
    "    plot_average_weather_delays(range(years[0], years[1] + 1), df, ax)\n",
    "    \n",
    "    plt.subplots_adjust(top=0.92, bottom=0.08, left=0.10, right=0.95, hspace=0.25,\n",
    "                    wspace=0.35)\n",
    "    plt.show()\n",
    "\n",
    "\n",
    "# Years selection range\n",
    "years = range(1994, 2009)\n",
    "years = [(str(y), y) for y in years]\n",
    "years_w = widgets.SelectionRangeSlider(options=years,\n",
    "                                       index=(0, 2),\n",
    "                                       description='Years',\n",
    "                                       continuous_update=False)\n",
    "#We could improve the visualization allowing to select the delay type percentage. \n",
    "#Now can be visualized only the weather delays percentage\n",
    "\n",
    "ui = widgets.HBox([years_w])"
   ]
  },
  {
   "cell_type": "code",
   "execution_count": 18,
   "metadata": {},
   "outputs": [
    {
     "data": {
      "application/vnd.jupyter.widget-view+json": {
       "model_id": "1bc54dce4be44b2389a883a0c62648bc",
       "version_major": 2,
       "version_minor": 0
      },
      "text/plain": [
       "HBox(children=(SelectionRangeSlider(continuous_update=False, description='Years', index=(0, 2), options=(('199…"
      ]
     },
     "metadata": {},
     "output_type": "display_data"
    },
    {
     "data": {
      "application/vnd.jupyter.widget-view+json": {
       "model_id": "1b63e6004ae343d0841004036d306b47",
       "version_major": 2,
       "version_minor": 0
      },
      "text/plain": [
       "Output()"
      ]
     },
     "metadata": {},
     "output_type": "display_data"
    }
   ],
   "source": [
    "out = widgets.interactive_output(ui_callback, {'years': years_w, 'df': widgets.fixed(percentage_weather_delays)})\n",
    "display(ui, out)"
   ]
  },
  {
   "cell_type": "markdown",
   "metadata": {},
   "source": [
    "NOTE: Befoure 2003 the weather delays are all set to 0, this mean that probably this attribute was not being recorded. Also in 2003, after the first week, there is an empty gap of 20 weeks."
   ]
  },
  {
   "cell_type": "code",
   "execution_count": null,
   "metadata": {},
   "outputs": [],
   "source": []
  }
 ],
 "metadata": {
  "kernelspec": {
   "display_name": "Python 3",
   "language": "python",
   "name": "python3"
  },
  "language_info": {
   "codemirror_mode": {
    "name": "ipython",
    "version": 3
   },
   "file_extension": ".py",
   "mimetype": "text/x-python",
   "name": "python",
   "nbconvert_exporter": "python",
   "pygments_lexer": "ipython3",
   "version": "3.6.4"
  }
 },
 "nbformat": 4,
 "nbformat_minor": 2
}
