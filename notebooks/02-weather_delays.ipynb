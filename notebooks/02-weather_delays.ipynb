{
 "cells": [
  {
   "cell_type": "code",
   "execution_count": 1,
   "metadata": {},
   "outputs": [],
   "source": [
    "# Find Apache Spark on this machine\n",
    "import findspark\n",
    "findspark.init('/Users/giacomogregori/spark')"
   ]
  },
  {
   "cell_type": "code",
   "execution_count": 2,
   "metadata": {},
   "outputs": [],
   "source": [
    "from pyspark.sql import SparkSession\n",
    "\n",
    "# Build a Spark SQL Session for DataFrames\n",
    "master = 'local[2]'\n",
    "appName = 'Weather delays percentages'\n",
    "spark = SparkSession \\\n",
    "    .builder \\\n",
    "    .appName(appName) \\\n",
    "    .master(master) \\\n",
    "    .getOrCreate()"
   ]
  },
  {
   "cell_type": "code",
   "execution_count": 3,
   "metadata": {},
   "outputs": [],
   "source": [
    "from pathlib import Path\n",
    "full_data = '../dataset/*.csv.bz2'\n",
    "full_data_parquet = '../dataset/RITA_1994-2008.parquet'\n",
    "\n",
    "path = Path(full_data_parquet)\n",
    "# If reduced dataset is not found, load the full compressed dataset and reduce it.\n",
    "# This is going to take lot of time. Just wait.\n",
    "if not path.is_dir():\n",
    "    df = spark.read.csv(full_data, inferSchema=True, header=True, sep=',')\n",
    "    df.replace('NA', None) \\\n",
    "    .write \\\n",
    "    .save(full_data_parquet, format='parquet')\n",
    "\n",
    "# Load the reduced dataset\n",
    "df = spark.read.load(full_data_parquet, format='parquet')"
   ]
  },
  {
   "cell_type": "code",
   "execution_count": 4,
   "metadata": {},
   "outputs": [
    {
     "data": {
      "text/plain": [
       "['Year',\n",
       " 'Month',\n",
       " 'DayofMonth',\n",
       " 'DayOfWeek',\n",
       " 'DepTime',\n",
       " 'CRSDepTime',\n",
       " 'ArrTime',\n",
       " 'CRSArrTime',\n",
       " 'UniqueCarrier',\n",
       " 'FlightNum',\n",
       " 'TailNum',\n",
       " 'ActualElapsedTime',\n",
       " 'CRSElapsedTime',\n",
       " 'AirTime',\n",
       " 'ArrDelay',\n",
       " 'DepDelay',\n",
       " 'Origin',\n",
       " 'Dest',\n",
       " 'Distance',\n",
       " 'TaxiIn',\n",
       " 'TaxiOut',\n",
       " 'Cancelled',\n",
       " 'CancellationCode',\n",
       " 'Diverted',\n",
       " 'CarrierDelay',\n",
       " 'WeatherDelay',\n",
       " 'NASDelay',\n",
       " 'SecurityDelay',\n",
       " 'LateAircraftDelay']"
      ]
     },
     "execution_count": 4,
     "metadata": {},
     "output_type": "execute_result"
    }
   ],
   "source": [
    "df.columns"
   ]
  },
  {
   "cell_type": "code",
   "execution_count": 12,
   "metadata": {},
   "outputs": [],
   "source": [
    "# Drop cancelled flights\n",
    "df = df.drop(df['Cancelled'] == 1)\n",
    "\n",
    "\n",
    "# Parse dates to datetime format\n",
    "import datetime\n",
    "import pyspark.sql.functions as F\n",
    "from pyspark.sql.types import TimestampType, IntegerType\n",
    "\n",
    "make_date = lambda year, month, day : datetime.datetime(year, month, day) \n",
    "make_date = F.udf(make_date, TimestampType())\n",
    "\n",
    "week_year = lambda date : date.isocalendar()[1]\n",
    "week_year = F.udf(week_year, IntegerType())"
   ]
  },
  {
   "cell_type": "code",
   "execution_count": null,
   "metadata": {},
   "outputs": [],
   "source": [
    "df = df.select(make_date(df['Year'], df['Month'], df['DayofMonth']).alias('Date'), \\\n",
    "               'DayOfWeek', 'CarrierDelay', 'WeatherDelay','NASDelay','SecurityDelay','LateAircraftDelay')\n",
    "df = df.select('Date', week_year('Date').alias('WeekYear'), 'CarrierDelay', 'WeatherDelay','NASDelay','SecurityDelay','LateAircraftDelay')\n",
    "df.show(10)"
   ]
  },
  {
   "cell_type": "code",
   "execution_count": 9,
   "metadata": {},
   "outputs": [
    {
     "name": "stdout",
     "output_type": "stream",
     "text": [
      "+----+--------+-------------+\n",
      "|Year|WeekYear|weather_count|\n",
      "+----+--------+-------------+\n",
      "|2008|      35|         1413|\n",
      "|2005|      29|         3018|\n",
      "|2005|      49|         3513|\n",
      "|2007|       6|         2165|\n",
      "|2007|      52|         3271|\n",
      "|2005|       5|         1267|\n",
      "|2007|      28|         2940|\n",
      "|2005|      51|         1584|\n",
      "|2005|      25|         1653|\n",
      "|2008|      28|         3249|\n",
      "+----+--------+-------------+\n",
      "only showing top 10 rows\n",
      "\n",
      "+----+--------+-------------+\n",
      "|Year|WeekYear|general_count|\n",
      "+----+--------+-------------+\n",
      "|2008|      35|        19977|\n",
      "|2005|      29|        37064|\n",
      "|2005|      49|        34575|\n",
      "|2007|       6|        31743|\n",
      "|2007|      52|        47949|\n",
      "|2005|       5|        19279|\n",
      "|2007|      28|        42737|\n",
      "|2005|      51|        32616|\n",
      "|2005|      25|        26598|\n",
      "|2008|      28|        39097|\n",
      "+----+--------+-------------+\n",
      "only showing top 10 rows\n",
      "\n"
     ]
    }
   ],
   "source": [
    "# Flights that have a WeatherDelay\n",
    "weather_delayed_flights = df.filter(df['WeatherDelay'] > 0)\n",
    "\n",
    "# Flights that have a Delay\n",
    "delayed_flights = df.filter((df['CarrierDelay'] > 0) | (df['WeatherDelay'] > 0) | (df['NASDelay'] > 0) | (df['SecurityDelay'] > 0) | (df['LateAircraftDelay'] > 0))\n",
    "\n",
    "# Number of times per week flights had a weather delay or a general delay  \n",
    "weather_delays = weather_delayed_flights.groupBy([F.year('Date').alias('Year'), 'WeekYear']).count()\n",
    "general_delays = delayed_flights.groupBy([F.year('Date').alias('Year'), 'WeekYear']).count()\n",
    "                            \n",
    "weather_delays = weather_delays.select('Year', 'WeekYear', weather_delays['count'].alias('weather_count'))\n",
    "general_delays = general_delays.select('Year', 'WeekYear', general_delays['count'].alias('general_count'))\n",
    "\n",
    "                            \n",
    "weather_delays.show(10)\n",
    "general_delays.show(10)"
   ]
  },
  {
   "cell_type": "code",
   "execution_count": 31,
   "metadata": {},
   "outputs": [
    {
     "name": "stdout",
     "output_type": "stream",
     "text": [
      "+----+--------+-------------+-------------+\n",
      "|Year|WeekYear|weather_count|general_count|\n",
      "+----+--------+-------------+-------------+\n",
      "|2008|      35|         1413|        19977|\n",
      "|2005|      29|         3018|        37064|\n",
      "|2005|      49|         3513|        34575|\n",
      "|2005|       5|         1267|        19279|\n",
      "|2007|       6|         2165|        31743|\n",
      "|2007|      52|         3271|        47949|\n",
      "|2007|      28|         2940|        42737|\n",
      "|2005|      51|         1584|        32616|\n",
      "|2005|      25|         1653|        26598|\n",
      "|2005|      22|         2670|        26607|\n",
      "+----+--------+-------------+-------------+\n",
      "only showing top 10 rows\n",
      "\n"
     ]
    }
   ],
   "source": [
    "# Join the tables\n",
    "percentage_weather_delays = weather_delays \\\n",
    "                .join(general_delays, [\"Year\",\"WeekYear\"])\n",
    "    \n",
    "percentage_weather_delays.show(10)"
   ]
  },
  {
   "cell_type": "code",
   "execution_count": 32,
   "metadata": {},
   "outputs": [
    {
     "name": "stdout",
     "output_type": "stream",
     "text": [
      "+----+--------+-------------+-------------+--------------------+\n",
      "|Year|WeekYear|weather_count|general_count| WeeklyWeatherDelays|\n",
      "+----+--------+-------------+-------------+--------------------+\n",
      "|2008|      35|         1413|        19977| 0.07073134104219853|\n",
      "|2005|      29|         3018|        37064| 0.08142672134685949|\n",
      "|2005|      49|         3513|        34575| 0.10160520607375272|\n",
      "|2005|       5|         1267|        19279|   0.065719176305825|\n",
      "|2007|       6|         2165|        31743| 0.06820401348328765|\n",
      "|2007|      52|         3271|        47949|  0.0682183152933325|\n",
      "|2007|      28|         2940|        42737| 0.06879284928750264|\n",
      "|2005|      51|         1584|        32616| 0.04856512141280353|\n",
      "|2005|      25|         1653|        26598|0.062147529889465376|\n",
      "|2005|      22|         2670|        26607| 0.10034953207802458|\n",
      "+----+--------+-------------+-------------+--------------------+\n",
      "only showing top 10 rows\n",
      "\n"
     ]
    }
   ],
   "source": [
    "percentage_weather_delays = percentage_weather_delays.withColumn(\"WeeklyWeatherDelays\", (F.col(\"weather_count\") / F.col(\"general_count\"))*100)\n",
    "#['WeeklyWeatherDelays']= percentage_weather_delays['weather_count'] / percentage_weather_delays['general_count']\n",
    "percentage_weather_delays.show(10)"
   ]
  },
  {
   "cell_type": "code",
   "execution_count": 33,
   "metadata": {},
   "outputs": [
    {
     "data": {
      "text/plain": [
       "DataFrame[Year: int, WeekYear: int, WeeklyWeatherDelays: double]"
      ]
     },
     "execution_count": 33,
     "metadata": {},
     "output_type": "execute_result"
    }
   ],
   "source": [
    "percentage_weather_delays.select('Year','WeekYear','WeeklyWeatherDelays')"
   ]
  },
  {
   "cell_type": "code",
   "execution_count": 4,
   "metadata": {},
   "outputs": [],
   "source": [
    "# Store output Dataframe (or load it if already existing)\n",
    "final_dataset = '../dataset/weather_analitics.parquet'\n",
    "\n",
    "path= Path(final_dataset)\n",
    "if not path.is_dir():\n",
    "    percentage_weather_delays.write.mode('overwrite').save(final_dataset, format='parquet')\n",
    "else:\n",
    "    percentage_weather_delays = spark.read.load(final_dataset)"
   ]
  },
  {
   "cell_type": "code",
   "execution_count": 35,
   "metadata": {},
   "outputs": [
    {
     "name": "stdout",
     "output_type": "stream",
     "text": [
      "[(2008, 35, 1413, 19977, 0.07073134104219853), (2005, 29, 3018, 37064, 0.08142672134685949), (2005, 49, 3513, 34575, 0.10160520607375272), (2005, 5, 1267, 19279, 0.065719176305825), (2007, 6, 2165, 31743, 0.06820401348328765), (2007, 52, 3271, 47949, 0.0682183152933325), (2007, 28, 2940, 42737, 0.06879284928750264), (2005, 51, 1584, 32616, 0.04856512141280353), (2005, 25, 1653, 26598, 0.062147529889465376), (2005, 22, 2670, 26607, 0.10034953207802458), (2005, 28, 6317, 47030, 0.1343185200935573), (2008, 28, 3249, 39097, 0.08310100519221424), (2005, 19, 1216, 21523, 0.05649770013473958), (2005, 23, 3223, 37790, 0.08528711299285525), (2006, 24, 2135, 28653, 0.074512267476355), (2008, 45, 512, 17228, 0.029719061992105875), (2004, 44, 1928, 25645, 0.07518034704620784), (2008, 8, 3173, 41191, 0.07703139035226142), (2003, 50, 2617, 28252, 0.09263061022228515), (2006, 46, 2542, 34278, 0.07415835229593325), (2003, 32, 2467, 26424, 0.09336209506509234), (2004, 6, 3462, 33331, 0.10386727070894963), (2004, 38, 1479, 22276, 0.06639432573172921), (2005, 10, 2563, 30580, 0.08381294964028776), (2005, 21, 2087, 22925, 0.09103598691384951), (2006, 19, 2038, 30162, 0.06756846362973278), (2007, 29, 3639, 45654, 0.0797082402418189), (2005, 44, 1358, 18985, 0.07153015538583092), (2003, 35, 2036, 21822, 0.09330033910732288), (2005, 32, 3921, 40120, 0.09773180458624127), (2005, 34, 1116, 21911, 0.05093332116288622), (2004, 8, 963, 22706, 0.0424116973487184), (2004, 22, 2339, 28264, 0.08275544862722899), (2004, 30, 2022, 29046, 0.06961371617434414), (2003, 46, 1412, 23795, 0.0593401975204875), (2004, 15, 700, 16637, 0.04207489331009196), (2007, 45, 498, 21248, 0.0234375), (2008, 36, 431, 13294, 0.03242064089062735), (2003, 40, 382, 11897, 0.03210893502563671), (2005, 31, 3264, 34036, 0.09589846045363733), (2006, 12, 1965, 30768, 0.06386505460218408), (2004, 27, 3419, 30070, 0.1137013634852012), (2004, 49, 1227, 25571, 0.04798404442532556), (2007, 44, 322, 16516, 0.01949624606442238), (2004, 47, 1333, 22669, 0.058802770303057035), (2005, 17, 1781, 22892, 0.07780010484011882), (2007, 1, 2536, 43996, 0.057641603782162015), (2004, 10, 1896, 26622, 0.071219292314627), (2004, 21, 2548, 31967, 0.07970719804798698), (2005, 27, 3841, 31655, 0.1213394408466277), (2006, 7, 3736, 37787, 0.09886998173975177), (2007, 10, 1288, 29798, 0.04322437747499832), (2007, 39, 1073, 26551, 0.04041279047870137), (2007, 46, 777, 26507, 0.029313011657298074), (2004, 45, 1304, 22065, 0.059098119193292546), (2005, 30, 2686, 36351, 0.07389067701026107), (2003, 22, 85, 1868, 0.045503211991434686), (2003, 49, 2036, 26798, 0.07597581909097693), (2003, 25, 1836, 23168, 0.07924723756906077), (2005, 6, 1401, 23961, 0.05847001377238012), (2004, 41, 1740, 19553, 0.0889889019587787), (2005, 41, 2433, 27157, 0.08959016091615421), (2005, 53, 392, 9533, 0.04112031889226896), (2006, 35, 2308, 31636, 0.07295486155013275), (2008, 37, 1442, 22286, 0.06470429866283765), (2005, 16, 1305, 21156, 0.06168462847419172), (2004, 29, 2622, 34869, 0.07519573259915685), (2007, 49, 3060, 38030, 0.0804627925322114), (2006, 27, 2816, 28516, 0.0987515780614392), (2007, 35, 2062, 26119, 0.07894636088671082), (2008, 25, 3538, 37253, 0.09497221700265751), (2008, 40, 413, 13424, 0.0307657926102503), (2004, 25, 3685, 40289, 0.0914641713619102), (2005, 37, 1283, 23579, 0.054412824971372835), (2007, 27, 3083, 28572, 0.10790284194316113), (2003, 28, 2602, 28999, 0.08972723197351633), (2006, 6, 1490, 19972, 0.0746044462247146), (2007, 51, 3375, 52161, 0.06470351411974463), (2003, 26, 868, 19642, 0.044191019244476125), (2004, 46, 1193, 20411, 0.05844887560629072), (2004, 23, 1918, 24120, 0.07951907131011608), (2007, 43, 1748, 33963, 0.05146777375379089), (2007, 50, 4610, 42639, 0.10811698210558408), (2008, 1, 2666, 49243, 0.054139674674573035), (2007, 21, 1998, 30496, 0.0655167890870934), (2008, 20, 1158, 27639, 0.04189731900575274), (2008, 52, 5092, 48213, 0.105614668243005), (2004, 14, 963, 23942, 0.0402222036588422), (2005, 33, 2989, 35510, 0.08417347226133484), (2006, 40, 1640, 29131, 0.05629741512478116), (2006, 45, 1900, 28927, 0.06568258028831196), (2006, 51, 3683, 45184, 0.08151115439093484), (2008, 6, 2649, 35853, 0.0738850305413773), (2004, 28, 2334, 28952, 0.08061619231831998), (2007, 14, 1629, 34678, 0.04697502739489013), (2006, 36, 1490, 26074, 0.05714504870752474), (2003, 1, 448, 10715, 0.041810545963602425), (2006, 28, 1824, 31575, 0.057767220902612826), (2007, 9, 2751, 43406, 0.06337833479242501), (2004, 37, 1339, 17674, 0.07576100486590472)]\n"
     ]
    }
   ],
   "source": [
    "# Output a list of tuples of schema:\n",
    "# ('Year', 'WeekYear', 'Percentage')\n",
    "weather_data = percentage_weather_delays.rdd.map(tuple).collect()\n",
    "print(weather_data[:100])"
   ]
  },
  {
   "cell_type": "markdown",
   "metadata": {},
   "source": [
    "# Data Visualization"
   ]
  },
  {
   "cell_type": "code",
   "execution_count": 13,
   "metadata": {},
   "outputs": [],
   "source": [
    "# Hide warnings if there are any\n",
    "import warnings\n",
    "warnings.filterwarnings('ignore')\n",
    "\n",
    "%matplotlib ipympl\n",
    "\n",
    "from __future__ import print_function\n",
    "from ipywidgets import interact, interactive, fixed, interact_manual\n",
    "import ipywidgets as widgets\n",
    "\n",
    "import numpy as np\n",
    "import pandas as pd\n",
    "import seaborn as sns\n",
    "import matplotlib.pyplot as plt"
   ]
  },
  {
   "cell_type": "code",
   "execution_count": 14,
   "metadata": {},
   "outputs": [],
   "source": [
    "def get_pd_dataframe( years, df):\n",
    "    rows = df.filter(F.col('Year').isin(*years)) \\\n",
    "             .select('Year', 'WeekYear', 'WeeklyWeatherDelays') \\\n",
    "             .orderBy('Year', 'WeekYear') \\\n",
    "             .collect()\n",
    "    \n",
    "    nb_years = len(years)\n",
    "    nb_weeks = 52\n",
    "    data = np.zeros((nb_weeks, nb_years))\n",
    "    for row in rows:\n",
    "        year = row[0] - years[0]\n",
    "        week = row[1] - 1\n",
    "        per = row[2]\n",
    "\n",
    "        if week > 51: continue\n",
    "        data[week, year] = per\n",
    "    columns = [str(y) for y in years]\n",
    "    indices = range(1, 53)\n",
    "    res = pd.DataFrame(data=data, columns=columns, index=indices)\n",
    "    return res\n",
    "\n",
    "def plot_weather_time_series(years, df):\n",
    "    df = get_pd_dataframe(years, df)\n",
    "    title = 'Weekly weather delays percentage'\n",
    "    if df.empty:\n",
    "        print('No data')\n",
    "    else:\n",
    "        df.plot(title=title, grid=True, xticks=range(0, 53, 4), colormap='tab20c')"
   ]
  },
  {
   "cell_type": "code",
   "execution_count": 15,
   "metadata": {},
   "outputs": [],
   "source": [
    "def get_average_df(years, df):\n",
    "    rows = df.filter(F.col('Year').isin(*years)) \\\n",
    "             .groupBy('Year') \\\n",
    "             .avg('WeeklyWeatherDelays') \\\n",
    "             .withColumnRenamed('avg(WeeklyWeatherDelays)', 'AverageWeatherDelaysPercentage') \\\n",
    "             .select('Year', 'AverageWeatherDelaysPercentage') \\\n",
    "             .collect()\n",
    "    \n",
    "    nb_years = len(years)\n",
    "    data = np.zeros(nb_years)\n",
    "    for row in rows:\n",
    "        year = row[0] - years[0]\n",
    "        avg_pen = row[1]\n",
    "        data[year] = avg_pen \n",
    "    res = pd.DataFrame({'Weather delays': data}, index=years)\n",
    "    return res\n",
    "\n",
    "def plot_average_weather_delays(years, df):\n",
    "    df = get_average_df( years, df)\n",
    "    title = 'Average weather delays percentage'\n",
    "    if df.empty:\n",
    "        print('No data ')\n",
    "    else:\n",
    "        df.plot.bar( title=title, rot=0)"
   ]
  },
  {
   "cell_type": "code",
   "execution_count": 16,
   "metadata": {},
   "outputs": [],
   "source": [
    "def ui_callback( years, df):\n",
    "    plot_weather_time_series(range(years[0], years[1] + 1), df)\n",
    "    plot_average_weather_delays(range(years[0], years[1] + 1), df)\n",
    "\n",
    "# Years selection range\n",
    "years = range(1994, 2009)\n",
    "years = [(str(y), y) for y in years]\n",
    "years_w = widgets.SelectionRangeSlider(options=years,\n",
    "                                       index=(0, 2),\n",
    "                                       description='Years',\n",
    "                                       continuous_update=False)\n",
    "#We could improve the visualization allowing to select the delay type percentage. \n",
    "#Now can be visualized only the weather delays percentage\n",
    "\n",
    "ui = widgets.HBox([years_w])"
   ]
  },
  {
   "cell_type": "code",
   "execution_count": 17,
   "metadata": {},
   "outputs": [
    {
     "data": {
      "application/vnd.jupyter.widget-view+json": {
       "model_id": "d2460aeb0224441f9f53c775a5af7cff",
       "version_major": 2,
       "version_minor": 0
      },
      "text/plain": [
       "FigureCanvasNbAgg()"
      ]
     },
     "metadata": {},
     "output_type": "display_data"
    },
    {
     "data": {
      "application/vnd.jupyter.widget-view+json": {
       "model_id": "72deee31520a482a8c415dcb00c3d880",
       "version_major": 2,
       "version_minor": 0
      },
      "text/plain": [
       "FigureCanvasNbAgg()"
      ]
     },
     "metadata": {},
     "output_type": "display_data"
    },
    {
     "data": {
      "application/vnd.jupyter.widget-view+json": {
       "model_id": "3e4e618af68a4f8297e6a87dfeebe476",
       "version_major": 2,
       "version_minor": 0
      },
      "text/plain": [
       "HBox(children=(SelectionRangeSlider(continuous_update=False, description='Years', index=(0, 2), options=(('199…"
      ]
     },
     "metadata": {},
     "output_type": "display_data"
    },
    {
     "data": {
      "application/vnd.jupyter.widget-view+json": {
       "model_id": "5a87c1b0082f49d796aaf2ec5486de8d",
       "version_major": 2,
       "version_minor": 0
      },
      "text/plain": [
       "Output()"
      ]
     },
     "metadata": {},
     "output_type": "display_data"
    }
   ],
   "source": [
    "out = widgets.interactive_output(ui_callback, {'years': years_w, 'df': widgets.fixed(percentage_weather_delays)})\n",
    "display(ui, out)"
   ]
  },
  {
   "cell_type": "code",
   "execution_count": null,
   "metadata": {},
   "outputs": [],
   "source": []
  },
  {
   "cell_type": "code",
   "execution_count": null,
   "metadata": {},
   "outputs": [],
   "source": []
  }
 ],
 "metadata": {
  "kernelspec": {
   "display_name": "Python 3",
   "language": "python",
   "name": "python3"
  },
  "language_info": {
   "codemirror_mode": {
    "name": "ipython",
    "version": 3
   },
   "file_extension": ".py",
   "mimetype": "text/x-python",
   "name": "python",
   "nbconvert_exporter": "python",
   "pygments_lexer": "ipython3",
   "version": "3.6.4"
  }
 },
 "nbformat": 4,
 "nbformat_minor": 2
}
