{
 "cells": [
  {
   "cell_type": "markdown",
   "metadata": {},
   "source": [
    "## **Airport daily percentage of cancelled flights**\n"
   ]
  },
  {
   "cell_type": "markdown",
   "metadata": {},
   "source": [
    "In this notebook we compute the percentage of cancelled flights per day, throughout the entire data set.\n",
    "\n",
    "\\begin{equation}\n",
    "PercentageOfCancelledFlights(dayOfYear) = \\frac{CancelledFlights(dayOfYear)}{NumberOfFlights(dayOfYear)} * 100\n",
    "\\end{equation}"
   ]
  },
  {
   "cell_type": "markdown",
   "metadata": {},
   "source": [
    "#### Execution mode\n",
    "\n",
    "If development mode is turned on, all the calculations will be performed on a reduced instance of the data set.\n",
    "\n",
    "This allows to *save computation time* while developing."
   ]
  },
  {
   "cell_type": "code",
   "execution_count": 1,
   "metadata": {},
   "outputs": [],
   "source": [
    "# development mode\n",
    "# False when performing real analytics\n",
    "DEV = False\n",
    "\n",
    "### threads to be used to run spark worker nodes locally\n",
    "spark_local_threads = 4\n",
    "\n",
    "# default transformed dataset path\n",
    "\n",
    "transformed_dataset_path = '../dataset/01_cache_daily_cancelled_analytics.parquet'\n",
    "missings_dataframe_path = '../dataset/01_cache_daily_cancelled_analytics_missings.pkl'"
   ]
  },
  {
   "cell_type": "markdown",
   "metadata": {},
   "source": [
    "#### Find and import Apache Spark on current machine"
   ]
  },
  {
   "cell_type": "code",
   "execution_count": 2,
   "metadata": {},
   "outputs": [],
   "source": [
    "import findspark\n",
    "findspark.init()"
   ]
  },
  {
   "cell_type": "code",
   "execution_count": 3,
   "metadata": {},
   "outputs": [],
   "source": [
    "# imports\n",
    "from pyspark.sql import SparkSession\n",
    "import pyspark.sql.functions as F\n",
    "from pyspark.sql.types import *\n",
    "\n",
    "from pathlib import Path\n",
    "\n",
    "from missing_values_utils import *"
   ]
  },
  {
   "cell_type": "markdown",
   "metadata": {},
   "source": [
    "#### Create a new session"
   ]
  },
  {
   "cell_type": "code",
   "execution_count": 4,
   "metadata": {},
   "outputs": [],
   "source": [
    "# Build a Spark SQL Session for DataFrames\n",
    "master = 'local[{}]'.format(spark_local_threads)\n",
    "appName = 'Daily cancelled filghts'\n",
    "spark = SparkSession  \\\n",
    "    .builder          \\\n",
    "    .appName(appName) \\\n",
    "    .master(master)   \\\n",
    "    .getOrCreate()"
   ]
  },
  {
   "cell_type": "markdown",
   "metadata": {},
   "source": [
    "### Load data\n",
    "\n",
    "If there exists a cached version of the already transformed dataset, just load it and skip all the unnecessary computation."
   ]
  },
  {
   "cell_type": "code",
   "execution_count": 5,
   "metadata": {},
   "outputs": [],
   "source": [
    "do_computation = True\n",
    "\n",
    "if not DEV and Path(transformed_dataset_path).is_dir():\n",
    "    df = spark.read.load(transformed_dataset_path)\n",
    "    do_computation = False"
   ]
  },
  {
   "cell_type": "markdown",
   "metadata": {},
   "source": [
    "Try to load the optimized parquet format data set. If parquet data set is not found, load full compressed data sets, reduce and save them."
   ]
  },
  {
   "cell_type": "code",
   "execution_count": 6,
   "metadata": {},
   "outputs": [
    {
     "name": "stdout",
     "output_type": "stream",
     "text": [
      "Starting preprocessing of ../dataset/*.csv.bz2\n",
      "Preprocessing NOT performed.\n",
      "Preprocessed dataset already exists: ../dataset/preprocessed_dataset.parquet\n",
      "\n"
     ]
    }
   ],
   "source": [
    "from preprocessing_utils import *\n",
    "\n",
    "if do_computation:\n",
    "    if DEV:\n",
    "        # DEV preprocessing\n",
    "        perform_DEV_dataset_preprocessing(spark)\n",
    "    else:\n",
    "        # Production preprocessing\n",
    "        perform_dataset_preprocessing(spark)"
   ]
  },
  {
   "cell_type": "code",
   "execution_count": 7,
   "metadata": {},
   "outputs": [
    {
     "name": "stdout",
     "output_type": "stream",
     "text": [
      "Peprocessed dataset loaded.\n",
      "../dataset/preprocessed_dataset.parquet\n"
     ]
    }
   ],
   "source": [
    "# Load the parquet dataset\n",
    "if do_computation:\n",
    "    if DEV:\n",
    "        # Load DEV dataset\n",
    "        df = load_DEV_preprocessed_dataset(spark)\n",
    "    else:\n",
    "        # Load production dataset\n",
    "        df = load_preprocessed_dataset(spark)"
   ]
  },
  {
   "cell_type": "markdown",
   "metadata": {},
   "source": [
    "### Attributes selection"
   ]
  },
  {
   "cell_type": "code",
   "execution_count": 8,
   "metadata": {},
   "outputs": [
    {
     "name": "stdout",
     "output_type": "stream",
     "text": [
      "root\n",
      " |-- Year: integer (nullable = true)\n",
      " |-- Month: integer (nullable = true)\n",
      " |-- DayofMonth: integer (nullable = true)\n",
      " |-- Cancelled: integer (nullable = true)\n",
      "\n"
     ]
    }
   ],
   "source": [
    "if do_computation:\n",
    "    # Keep only the dimensions we need\n",
    "    df = df.select(df['Year'], df['Month'], df['DayofMonth'], df['Cancelled'])\n",
    "    # Explore the data\n",
    "    df.printSchema()"
   ]
  },
  {
   "cell_type": "code",
   "execution_count": 9,
   "metadata": {},
   "outputs": [
    {
     "name": "stdout",
     "output_type": "stream",
     "text": [
      "[1994, 1995, 1996, 1997, 1998, 1999, 2000, 2001, 2002, 2003, 2004, 2005, 2006, 2007, 2008]\n"
     ]
    }
   ],
   "source": [
    "# get years from dataset\n",
    "if do_computation:\n",
    "    df_years = df.select('Year').distinct().toPandas()['Year']\n",
    "else:\n",
    "    df_years = list(df.columns)\n",
    "    df_years.remove('DayOfMonth')\n",
    "    df_years.remove('Month')\n",
    "\n",
    "df_years = sorted(df_years)\n",
    "print(df_years)"
   ]
  },
  {
   "cell_type": "markdown",
   "metadata": {},
   "source": [
    "### Missing values exploration and exclusion"
   ]
  },
  {
   "cell_type": "code",
   "execution_count": 10,
   "metadata": {},
   "outputs": [
    {
     "data": {
      "text/plain": [
       "91469371"
      ]
     },
     "execution_count": 10,
     "metadata": {},
     "output_type": "execute_result"
    }
   ],
   "source": [
    "df.count()"
   ]
  },
  {
   "cell_type": "code",
   "execution_count": 11,
   "metadata": {},
   "outputs": [
    {
     "name": "stdout",
     "output_type": "stream",
     "text": [
      "Years examined:\n",
      " [1994, 1995, 1996, 1997, 1998, 1999, 2000, 2001, 2002, 2003, 2004, 2005, 2006, 2007, 2008]\n",
      "\n",
      "Missing values inspection:\n",
      "0  null values in:  Year\n",
      "0  null values in:  Month\n",
      "0  null values in:  DayofMonth\n",
      "0  null values in:  Cancelled\n",
      "\n",
      "\n",
      "        Count  MissingsCount  MissingsPercentage\n",
      "1994  5180048              0                 0.0\n",
      "1995  5327435              0                 0.0\n",
      "1996  5351983              0                 0.0\n",
      "1997  5411843              0                 0.0\n",
      "1998  5384721              0                 0.0\n",
      "1999  5527884              0                 0.0\n",
      "2000  5683047              0                 0.0\n",
      "2001  5967780              0                 0.0\n",
      "2002  5271359              0                 0.0\n",
      "2003  6488540              0                 0.0\n",
      "2004  7129270              0                 0.0\n",
      "2005  7140596              0                 0.0\n",
      "2006  7141922              0                 0.0\n",
      "2007  7453215              0                 0.0\n",
      "2008  7009728              0                 0.0\n"
     ]
    }
   ],
   "source": [
    "df, df_missing = get_df_missing_and_drop_all_null(df, do_computation, missings_dataframe_path)"
   ]
  },
  {
   "cell_type": "code",
   "execution_count": 12,
   "metadata": {},
   "outputs": [
    {
     "data": {
      "text/plain": [
       "91469371"
      ]
     },
     "execution_count": 12,
     "metadata": {},
     "output_type": "execute_result"
    }
   ],
   "source": [
    "df.count()"
   ]
  },
  {
   "cell_type": "markdown",
   "metadata": {},
   "source": [
    "### Compute daily-percentage analytics"
   ]
  },
  {
   "cell_type": "code",
   "execution_count": 13,
   "metadata": {},
   "outputs": [
    {
     "name": "stdout",
     "output_type": "stream",
     "text": [
      "+-------+--------------------+\n",
      "|summary|           Cancelled|\n",
      "+-------+--------------------+\n",
      "|  count|            91469371|\n",
      "|   mean|0.021325903727926587|\n",
      "| stddev|  0.1444683695010413|\n",
      "|    min|                   0|\n",
      "|    max|                   1|\n",
      "+-------+--------------------+\n",
      "\n",
      "+-------+------------------+\n",
      "|summary|              Year|\n",
      "+-------+------------------+\n",
      "|  count|          91469371|\n",
      "|   mean|2001.5266289411786|\n",
      "| stddev| 4.332419506702069|\n",
      "|    min|              1994|\n",
      "|    max|              2008|\n",
      "+-------+------------------+\n",
      "\n"
     ]
    }
   ],
   "source": [
    "if do_computation:\n",
    "    df.describe('Cancelled').show()\n",
    "    df.describe('Year').show()"
   ]
  },
  {
   "cell_type": "code",
   "execution_count": 14,
   "metadata": {},
   "outputs": [
    {
     "name": "stdout",
     "output_type": "stream",
     "text": [
      "+----+-----+----------+-----+---------+\n",
      "|Year|Month|DayOfMonth|Count|Cancelled|\n",
      "+----+-----+----------+-----+---------+\n",
      "|2007|    1|        18|20815|      650|\n",
      "|2007|    1|        19|20867|      511|\n",
      "|2007|    9|        22|17136|      150|\n",
      "|2006|    2|         3|19592|      413|\n",
      "|2006|    8|        23|20386|      233|\n",
      "|2004|    8|        14|18184|      863|\n",
      "|2005|    1|        15|16826|      315|\n",
      "|2005|   12|        25|16618|      177|\n",
      "|2005|   12|         1|19246|      286|\n",
      "|1995|    3|        20|15186|      232|\n",
      "+----+-----+----------+-----+---------+\n",
      "only showing top 10 rows\n",
      "\n"
     ]
    }
   ],
   "source": [
    "if do_computation:\n",
    "    df = df.withColumn(\"Count\", F.lit(1))\n",
    "\n",
    "    df = df.groupBy(['Year', 'Month', 'DayOfMonth'])                \\\n",
    "           .sum('Count', 'Cancelled')                               \\\n",
    "           .withColumnRenamed('sum(Count)', 'Count')                \\\n",
    "           .withColumnRenamed('sum(Cancelled)', 'Cancelled')\n",
    "\n",
    "    df.show(10)"
   ]
  },
  {
   "cell_type": "markdown",
   "metadata": {},
   "source": [
    "#### Leap years management"
   ]
  },
  {
   "cell_type": "code",
   "execution_count": 15,
   "metadata": {},
   "outputs": [
    {
     "data": {
      "text/plain": [
       "[1996, 2000, 2004, 2008]"
      ]
     },
     "execution_count": 15,
     "metadata": {},
     "output_type": "execute_result"
    }
   ],
   "source": [
    "leap_years = range(1996,2009,4)\n",
    "list(leap_years)"
   ]
  },
  {
   "cell_type": "code",
   "execution_count": 16,
   "metadata": {},
   "outputs": [],
   "source": [
    "# insert a zero flights count and a zero cancelled flights count for all the leap years\n",
    "if do_computation:\n",
    "    for i in range(1994, 2009):\n",
    "        if i not in leap_years:\n",
    "            new_row = spark.createDataFrame([[i, 2, 29, 0, 0]])\n",
    "            df = df.union(new_row)"
   ]
  },
  {
   "cell_type": "code",
   "execution_count": 17,
   "metadata": {},
   "outputs": [],
   "source": [
    "# Compute the percentage\n",
    "if do_computation:\n",
    "    df = df.withColumn('DailyCancelledFlightsPercentage', (df.Cancelled / df.Count) * 100)\n",
    "    df = df.select('Year', 'Month', 'DayOfMonth', 'DailyCancelledFlightsPercentage')"
   ]
  },
  {
   "cell_type": "code",
   "execution_count": 18,
   "metadata": {},
   "outputs": [
    {
     "name": "stdout",
     "output_type": "stream",
     "text": [
      "+----+-----+----------+-------------------------------+\n",
      "|Year|Month|DayOfMonth|DailyCancelledFlightsPercentage|\n",
      "+----+-----+----------+-------------------------------+\n",
      "|2007|    1|        18|              3.122748018256065|\n",
      "|2007|    1|        19|             2.4488426702448844|\n",
      "|2007|    9|        22|             0.8753501400560224|\n",
      "|2006|    2|         3|             2.1080032666394444|\n",
      "|2006|    8|        23|             1.1429412341803198|\n",
      "|2004|    8|        14|              4.745930488341399|\n",
      "|2005|    1|        15|             1.8721026982051587|\n",
      "|2005|   12|        25|             1.0651101215549403|\n",
      "|2005|   12|         1|             1.4860230697287748|\n",
      "|1995|    3|        20|              1.527722902673515|\n",
      "|1995|    5|        24|              1.339165545087483|\n",
      "|1994|   10|        28|            0.24920859432882064|\n",
      "|1994|   12|        26|              1.077893024201749|\n",
      "|2000|    1|         3|             2.8468627698522915|\n",
      "|2000|    5|        15|             1.6666666666666667|\n",
      "|2000|    8|         9|             3.5416280363434085|\n",
      "|2002|    6|        30|             0.3976813157185225|\n",
      "|2002|   12|        28|            0.30716999434160536|\n",
      "|1999|    6|        25|             2.2761856454476286|\n",
      "|1999|    9|        20|              2.866885577165951|\n",
      "+----+-----+----------+-------------------------------+\n",
      "only showing top 20 rows\n",
      "\n"
     ]
    }
   ],
   "source": [
    "if do_computation:\n",
    "    df.show(20)"
   ]
  },
  {
   "cell_type": "markdown",
   "metadata": {},
   "source": [
    "#### Data format optimazion"
   ]
  },
  {
   "cell_type": "code",
   "execution_count": 19,
   "metadata": {},
   "outputs": [],
   "source": [
    "# dataset transformation so to have:\n",
    "# - for each year a column with the daily cancelled percentages \n",
    "# - have the dataset rows beign 366: days in a year\n",
    "if do_computation:\n",
    "    for y in df_years:\n",
    "        df = df.withColumn(str(y) + '_val', df.Year == y)\n",
    "        df = df.withColumn(str(y) + '_val', df[str(y) + '_val'].cast(IntegerType()))\n",
    "        df = df.withColumn(str(y), df[str(y) + '_val'] * df.DailyCancelledFlightsPercentage)\n",
    "        df = df.drop(str(y) + '_val')\n",
    "\n",
    "    df = df.drop('DailyCancelledFlightsPercentage')\n",
    "\n",
    "    # do the sum so that the columns will shrink all to the same size of 366 rows\n",
    "    df = df.groupBy('Month', 'DayOfMonth')                     \\\n",
    "           .sum()                                              \\\n",
    "           .drop('sum(Year)', 'sum(Month)', 'sum(DayOfMonth)') \\\n",
    "           .orderBy('Month', 'DayOfMonth')\n",
    "\n",
    "    # rename colums as year name\n",
    "    for y in df_years:\n",
    "        df = df.withColumnRenamed('sum({})'.format(y), str(y))\n",
    "    "
   ]
  },
  {
   "cell_type": "code",
   "execution_count": 20,
   "metadata": {},
   "outputs": [],
   "source": [
    "if do_computation:\n",
    "    df.write.mode('overwrite').save(transformed_dataset_path, format='parquet')"
   ]
  },
  {
   "cell_type": "code",
   "execution_count": 21,
   "metadata": {},
   "outputs": [
    {
     "name": "stdout",
     "output_type": "stream",
     "text": [
      "root\n",
      " |-- Month: long (nullable = true)\n",
      " |-- DayOfMonth: long (nullable = true)\n",
      " |-- 1994: double (nullable = true)\n",
      " |-- 1995: double (nullable = true)\n",
      " |-- 1996: double (nullable = true)\n",
      " |-- 1997: double (nullable = true)\n",
      " |-- 1998: double (nullable = true)\n",
      " |-- 1999: double (nullable = true)\n",
      " |-- 2000: double (nullable = true)\n",
      " |-- 2001: double (nullable = true)\n",
      " |-- 2002: double (nullable = true)\n",
      " |-- 2003: double (nullable = true)\n",
      " |-- 2004: double (nullable = true)\n",
      " |-- 2005: double (nullable = true)\n",
      " |-- 2006: double (nullable = true)\n",
      " |-- 2007: double (nullable = true)\n",
      " |-- 2008: double (nullable = true)\n",
      "\n"
     ]
    }
   ],
   "source": [
    "df.printSchema()"
   ]
  },
  {
   "cell_type": "code",
   "execution_count": 22,
   "metadata": {},
   "outputs": [
    {
     "name": "stdout",
     "output_type": "stream",
     "text": [
      "+------------------+------------------+------------------+------------------+\n",
      "|              1994|              1996|              2001|              2007|\n",
      "+------------------+------------------+------------------+------------------+\n",
      "|0.5264023688106596|3.0900723208415517| 7.400037311112493|1.8350968665337628|\n",
      "|0.4492230650268797|  6.72579453067258| 4.008630479218715|0.9954238807378403|\n",
      "| 1.541819205857505|7.1923102776097325|3.2720650998691174| 0.839897504033406|\n",
      "|15.560882746950574|2.8392652896454282|2.6977803073420605|  2.37118320610687|\n",
      "| 4.765613935703159|2.9633113828786453| 4.989758761948111|2.7675716944219118|\n",
      "| 5.416755640970887|  5.07185122569738|3.2939955907145637| 1.141539672721138|\n",
      "| 8.754974417282547| 25.97874919774656| 2.738993523854792| 1.124558749369642|\n",
      "| 9.567631892106307|29.014598540145986|2.8929163569835916|1.7102229054573406|\n",
      "|1.1112791049289386|16.927559802127803| 3.116957392050329|1.0085954190887862|\n",
      "|1.8481801444554598| 5.157224179994579| 4.055368071841217|0.7662458863401935|\n",
      "+------------------+------------------+------------------+------------------+\n",
      "only showing top 10 rows\n",
      "\n"
     ]
    }
   ],
   "source": [
    "df.select('1994', '1996', '2001', '2007').show(10)"
   ]
  },
  {
   "cell_type": "code",
   "execution_count": 23,
   "metadata": {},
   "outputs": [],
   "source": [
    "pdf = df.toPandas()"
   ]
  },
  {
   "cell_type": "code",
   "execution_count": 24,
   "metadata": {},
   "outputs": [
    {
     "data": {
      "text/plain": [
       "(366, 17)"
      ]
     },
     "execution_count": 24,
     "metadata": {},
     "output_type": "execute_result"
    }
   ],
   "source": [
    "# rows?\n",
    "assert(366 == pdf.shape[0])\n",
    "pdf.shape"
   ]
  },
  {
   "cell_type": "code",
   "execution_count": 25,
   "metadata": {},
   "outputs": [],
   "source": [
    "# update index to match the day of the year!\n",
    "pdf.index = pdf.index + 1"
   ]
  },
  {
   "cell_type": "code",
   "execution_count": 26,
   "metadata": {},
   "outputs": [
    {
     "data": {
      "text/html": [
       "<div>\n",
       "<style scoped>\n",
       "    .dataframe tbody tr th:only-of-type {\n",
       "        vertical-align: middle;\n",
       "    }\n",
       "\n",
       "    .dataframe tbody tr th {\n",
       "        vertical-align: top;\n",
       "    }\n",
       "\n",
       "    .dataframe thead th {\n",
       "        text-align: right;\n",
       "    }\n",
       "</style>\n",
       "<table border=\"1\" class=\"dataframe\">\n",
       "  <thead>\n",
       "    <tr style=\"text-align: right;\">\n",
       "      <th></th>\n",
       "      <th>Month</th>\n",
       "      <th>DayOfMonth</th>\n",
       "      <th>1994</th>\n",
       "      <th>1995</th>\n",
       "      <th>1996</th>\n",
       "      <th>1997</th>\n",
       "      <th>1998</th>\n",
       "      <th>1999</th>\n",
       "      <th>2000</th>\n",
       "      <th>2001</th>\n",
       "      <th>2002</th>\n",
       "      <th>2003</th>\n",
       "      <th>2004</th>\n",
       "      <th>2005</th>\n",
       "      <th>2006</th>\n",
       "      <th>2007</th>\n",
       "      <th>2008</th>\n",
       "    </tr>\n",
       "  </thead>\n",
       "  <tbody>\n",
       "    <tr>\n",
       "      <th>1</th>\n",
       "      <td>1</td>\n",
       "      <td>1</td>\n",
       "      <td>0.526402</td>\n",
       "      <td>1.058201</td>\n",
       "      <td>3.090072</td>\n",
       "      <td>2.313218</td>\n",
       "      <td>0.841365</td>\n",
       "      <td>2.745820</td>\n",
       "      <td>5.616711</td>\n",
       "      <td>7.400037</td>\n",
       "      <td>0.824279</td>\n",
       "      <td>0.817641</td>\n",
       "      <td>1.156372</td>\n",
       "      <td>1.225079</td>\n",
       "      <td>1.565285</td>\n",
       "      <td>1.835097</td>\n",
       "      <td>2.887372</td>\n",
       "    </tr>\n",
       "    <tr>\n",
       "      <th>2</th>\n",
       "      <td>1</td>\n",
       "      <td>2</td>\n",
       "      <td>0.449223</td>\n",
       "      <td>1.085271</td>\n",
       "      <td>6.725795</td>\n",
       "      <td>4.256721</td>\n",
       "      <td>1.040861</td>\n",
       "      <td>22.986174</td>\n",
       "      <td>1.992935</td>\n",
       "      <td>4.008630</td>\n",
       "      <td>4.502776</td>\n",
       "      <td>1.343912</td>\n",
       "      <td>3.201092</td>\n",
       "      <td>0.931881</td>\n",
       "      <td>4.043623</td>\n",
       "      <td>0.995424</td>\n",
       "      <td>2.438675</td>\n",
       "    </tr>\n",
       "    <tr>\n",
       "      <th>3</th>\n",
       "      <td>1</td>\n",
       "      <td>3</td>\n",
       "      <td>1.541819</td>\n",
       "      <td>1.775262</td>\n",
       "      <td>7.192310</td>\n",
       "      <td>2.808102</td>\n",
       "      <td>1.617592</td>\n",
       "      <td>15.144628</td>\n",
       "      <td>2.846863</td>\n",
       "      <td>3.272065</td>\n",
       "      <td>6.581214</td>\n",
       "      <td>2.024377</td>\n",
       "      <td>1.500753</td>\n",
       "      <td>1.617964</td>\n",
       "      <td>3.611637</td>\n",
       "      <td>0.839898</td>\n",
       "      <td>2.268711</td>\n",
       "    </tr>\n",
       "    <tr>\n",
       "      <th>4</th>\n",
       "      <td>1</td>\n",
       "      <td>4</td>\n",
       "      <td>15.560883</td>\n",
       "      <td>2.272874</td>\n",
       "      <td>2.839265</td>\n",
       "      <td>1.771453</td>\n",
       "      <td>1.676289</td>\n",
       "      <td>6.294622</td>\n",
       "      <td>3.369008</td>\n",
       "      <td>2.697780</td>\n",
       "      <td>2.311980</td>\n",
       "      <td>1.314240</td>\n",
       "      <td>6.338884</td>\n",
       "      <td>2.966507</td>\n",
       "      <td>1.429391</td>\n",
       "      <td>2.371183</td>\n",
       "      <td>3.674327</td>\n",
       "    </tr>\n",
       "    <tr>\n",
       "      <th>5</th>\n",
       "      <td>1</td>\n",
       "      <td>5</td>\n",
       "      <td>4.765614</td>\n",
       "      <td>2.155619</td>\n",
       "      <td>2.963311</td>\n",
       "      <td>3.017984</td>\n",
       "      <td>3.157408</td>\n",
       "      <td>4.057876</td>\n",
       "      <td>2.185376</td>\n",
       "      <td>4.989759</td>\n",
       "      <td>0.379687</td>\n",
       "      <td>1.349053</td>\n",
       "      <td>3.019592</td>\n",
       "      <td>7.438643</td>\n",
       "      <td>0.901448</td>\n",
       "      <td>2.767572</td>\n",
       "      <td>2.523659</td>\n",
       "    </tr>\n",
       "  </tbody>\n",
       "</table>\n",
       "</div>"
      ],
      "text/plain": [
       "   Month  DayOfMonth       1994      1995      1996      1997      1998  \\\n",
       "1      1           1   0.526402  1.058201  3.090072  2.313218  0.841365   \n",
       "2      1           2   0.449223  1.085271  6.725795  4.256721  1.040861   \n",
       "3      1           3   1.541819  1.775262  7.192310  2.808102  1.617592   \n",
       "4      1           4  15.560883  2.272874  2.839265  1.771453  1.676289   \n",
       "5      1           5   4.765614  2.155619  2.963311  3.017984  3.157408   \n",
       "\n",
       "        1999      2000      2001      2002      2003      2004      2005  \\\n",
       "1   2.745820  5.616711  7.400037  0.824279  0.817641  1.156372  1.225079   \n",
       "2  22.986174  1.992935  4.008630  4.502776  1.343912  3.201092  0.931881   \n",
       "3  15.144628  2.846863  3.272065  6.581214  2.024377  1.500753  1.617964   \n",
       "4   6.294622  3.369008  2.697780  2.311980  1.314240  6.338884  2.966507   \n",
       "5   4.057876  2.185376  4.989759  0.379687  1.349053  3.019592  7.438643   \n",
       "\n",
       "       2006      2007      2008  \n",
       "1  1.565285  1.835097  2.887372  \n",
       "2  4.043623  0.995424  2.438675  \n",
       "3  3.611637  0.839898  2.268711  \n",
       "4  1.429391  2.371183  3.674327  \n",
       "5  0.901448  2.767572  2.523659  "
      ]
     },
     "execution_count": 26,
     "metadata": {},
     "output_type": "execute_result"
    }
   ],
   "source": [
    "#pdf.head(65)\n",
    "pdf.head()"
   ]
  },
  {
   "cell_type": "code",
   "execution_count": 27,
   "metadata": {},
   "outputs": [
    {
     "data": {
      "text/html": [
       "<div>\n",
       "<style scoped>\n",
       "    .dataframe tbody tr th:only-of-type {\n",
       "        vertical-align: middle;\n",
       "    }\n",
       "\n",
       "    .dataframe tbody tr th {\n",
       "        vertical-align: top;\n",
       "    }\n",
       "\n",
       "    .dataframe thead th {\n",
       "        text-align: right;\n",
       "    }\n",
       "</style>\n",
       "<table border=\"1\" class=\"dataframe\">\n",
       "  <thead>\n",
       "    <tr style=\"text-align: right;\">\n",
       "      <th></th>\n",
       "      <th>Month</th>\n",
       "      <th>DayOfMonth</th>\n",
       "      <th>1994</th>\n",
       "      <th>1995</th>\n",
       "      <th>1996</th>\n",
       "      <th>1997</th>\n",
       "      <th>1998</th>\n",
       "      <th>1999</th>\n",
       "      <th>2000</th>\n",
       "      <th>2001</th>\n",
       "      <th>2002</th>\n",
       "      <th>2003</th>\n",
       "      <th>2004</th>\n",
       "      <th>2005</th>\n",
       "      <th>2006</th>\n",
       "      <th>2007</th>\n",
       "      <th>2008</th>\n",
       "    </tr>\n",
       "  </thead>\n",
       "  <tbody>\n",
       "    <tr>\n",
       "      <th>362</th>\n",
       "      <td>12</td>\n",
       "      <td>27</td>\n",
       "      <td>0.890943</td>\n",
       "      <td>1.028069</td>\n",
       "      <td>4.551761</td>\n",
       "      <td>0.508069</td>\n",
       "      <td>3.134514</td>\n",
       "      <td>1.167192</td>\n",
       "      <td>3.008695</td>\n",
       "      <td>1.319929</td>\n",
       "      <td>0.738084</td>\n",
       "      <td>0.838833</td>\n",
       "      <td>3.959081</td>\n",
       "      <td>1.084935</td>\n",
       "      <td>1.199437</td>\n",
       "      <td>2.305393</td>\n",
       "      <td>4.748991</td>\n",
       "    </tr>\n",
       "    <tr>\n",
       "      <th>363</th>\n",
       "      <td>12</td>\n",
       "      <td>28</td>\n",
       "      <td>0.564023</td>\n",
       "      <td>1.143824</td>\n",
       "      <td>3.058104</td>\n",
       "      <td>0.635164</td>\n",
       "      <td>3.417621</td>\n",
       "      <td>2.440258</td>\n",
       "      <td>2.413772</td>\n",
       "      <td>1.395477</td>\n",
       "      <td>0.307170</td>\n",
       "      <td>0.658997</td>\n",
       "      <td>2.752881</td>\n",
       "      <td>0.952381</td>\n",
       "      <td>2.024370</td>\n",
       "      <td>4.510253</td>\n",
       "      <td>1.570976</td>\n",
       "    </tr>\n",
       "    <tr>\n",
       "      <th>364</th>\n",
       "      <td>12</td>\n",
       "      <td>29</td>\n",
       "      <td>0.361882</td>\n",
       "      <td>1.192008</td>\n",
       "      <td>3.448754</td>\n",
       "      <td>2.978921</td>\n",
       "      <td>3.567425</td>\n",
       "      <td>1.436436</td>\n",
       "      <td>3.298360</td>\n",
       "      <td>0.319788</td>\n",
       "      <td>0.323078</td>\n",
       "      <td>0.980549</td>\n",
       "      <td>1.453488</td>\n",
       "      <td>1.026196</td>\n",
       "      <td>6.553163</td>\n",
       "      <td>0.940749</td>\n",
       "      <td>0.744337</td>\n",
       "    </tr>\n",
       "    <tr>\n",
       "      <th>365</th>\n",
       "      <td>12</td>\n",
       "      <td>30</td>\n",
       "      <td>0.564127</td>\n",
       "      <td>0.484541</td>\n",
       "      <td>4.328033</td>\n",
       "      <td>2.598183</td>\n",
       "      <td>2.187953</td>\n",
       "      <td>1.449644</td>\n",
       "      <td>16.860670</td>\n",
       "      <td>0.570613</td>\n",
       "      <td>2.808713</td>\n",
       "      <td>0.707927</td>\n",
       "      <td>1.843114</td>\n",
       "      <td>1.124755</td>\n",
       "      <td>3.250604</td>\n",
       "      <td>1.522896</td>\n",
       "      <td>1.537383</td>\n",
       "    </tr>\n",
       "    <tr>\n",
       "      <th>366</th>\n",
       "      <td>12</td>\n",
       "      <td>31</td>\n",
       "      <td>0.992063</td>\n",
       "      <td>1.730665</td>\n",
       "      <td>2.537848</td>\n",
       "      <td>1.085432</td>\n",
       "      <td>1.165880</td>\n",
       "      <td>2.786458</td>\n",
       "      <td>9.149301</td>\n",
       "      <td>0.576302</td>\n",
       "      <td>0.942484</td>\n",
       "      <td>0.565900</td>\n",
       "      <td>0.993871</td>\n",
       "      <td>1.337856</td>\n",
       "      <td>2.125939</td>\n",
       "      <td>2.970016</td>\n",
       "      <td>3.517907</td>\n",
       "    </tr>\n",
       "  </tbody>\n",
       "</table>\n",
       "</div>"
      ],
      "text/plain": [
       "     Month  DayOfMonth      1994      1995      1996      1997      1998  \\\n",
       "362     12          27  0.890943  1.028069  4.551761  0.508069  3.134514   \n",
       "363     12          28  0.564023  1.143824  3.058104  0.635164  3.417621   \n",
       "364     12          29  0.361882  1.192008  3.448754  2.978921  3.567425   \n",
       "365     12          30  0.564127  0.484541  4.328033  2.598183  2.187953   \n",
       "366     12          31  0.992063  1.730665  2.537848  1.085432  1.165880   \n",
       "\n",
       "         1999       2000      2001      2002      2003      2004      2005  \\\n",
       "362  1.167192   3.008695  1.319929  0.738084  0.838833  3.959081  1.084935   \n",
       "363  2.440258   2.413772  1.395477  0.307170  0.658997  2.752881  0.952381   \n",
       "364  1.436436   3.298360  0.319788  0.323078  0.980549  1.453488  1.026196   \n",
       "365  1.449644  16.860670  0.570613  2.808713  0.707927  1.843114  1.124755   \n",
       "366  2.786458   9.149301  0.576302  0.942484  0.565900  0.993871  1.337856   \n",
       "\n",
       "         2006      2007      2008  \n",
       "362  1.199437  2.305393  4.748991  \n",
       "363  2.024370  4.510253  1.570976  \n",
       "364  6.553163  0.940749  0.744337  \n",
       "365  3.250604  1.522896  1.537383  \n",
       "366  2.125939  2.970016  3.517907  "
      ]
     },
     "execution_count": 27,
     "metadata": {},
     "output_type": "execute_result"
    }
   ],
   "source": [
    "pdf.tail()"
   ]
  },
  {
   "cell_type": "markdown",
   "metadata": {},
   "source": [
    "##### Data visualization functions\n",
    "\n",
    "Scroll down to see the charts"
   ]
  },
  {
   "cell_type": "code",
   "execution_count": 28,
   "metadata": {},
   "outputs": [],
   "source": [
    "# Hide warnings if there are any\n",
    "import warnings\n",
    "warnings.filterwarnings('ignore')\n",
    "\n",
    "%matplotlib inline\n",
    "\n",
    "from ipywidgets import interact_manual\n",
    "import ipywidgets as widgets\n",
    "import matplotlib.pyplot as plt\n",
    "from matplotlib.font_manager import FontProperties\n",
    "import pandas as pd\n",
    "import numpy as np\n",
    "\n",
    "import calendar"
   ]
  },
  {
   "cell_type": "code",
   "execution_count": 29,
   "metadata": {},
   "outputs": [],
   "source": [
    "fig_size=[15,10]\n",
    "title_size=20"
   ]
  },
  {
   "cell_type": "code",
   "execution_count": 30,
   "metadata": {
    "scrolled": false
   },
   "outputs": [],
   "source": [
    "def get_years_df(years):\n",
    "    \"\"\"\n",
    "    Return the dataframe of the selected years \n",
    "    \"\"\"\n",
    "    years = [str(y) for y in range(*years)]\n",
    "    return pdf[years]\n",
    "\n",
    "\n",
    "def plot_cancelled_time_series(years):\n",
    "    # select requested years from dataframe \n",
    "    df = get_years_df(years)\n",
    "    \n",
    "    # xticks are the last day of the month counted as day of the year\n",
    "    xticks = [0]\n",
    "    for m in range(1,13):\n",
    "        new_val = xticks[-1] + calendar.monthrange(2016, m)[1]\n",
    "        xticks.append(new_val)\n",
    "\n",
    "    # xlabels are the months abbreviations\n",
    "    xlabels = list(calendar.month_abbr)[1:]\n",
    "\n",
    "    plt.rcParams['figure.figsize'] = fig_size\n",
    "    plt.rcParams['axes.titlesize'] = title_size\n",
    "    fig, ax = plt.subplots()\n",
    "    \n",
    "    ax.set_xticks(xticks)\n",
    "    ax.set_xticklabels(xlabels) \n",
    "    \n",
    "    ax.set_xlabel('Months', size=16)\n",
    "    ax.set_ylabel('Cancellation percentage', size=16)\n",
    "    ax.set_title('Daily cancelled flights percentage', pad=20)\n",
    "\n",
    "    plt.xlim(xmin=-4, xmax=370)\n",
    "    df.plot(grid=True, rot=45, ax=ax)\n",
    "    plt.legend(loc='best')\n",
    "    \n",
    "\n",
    "def plot_average_cancelled_flights(years):\n",
    "    # select requested years from dataframe \n",
    "    df = get_years_df(years)    \n",
    "    averages = []\n",
    "    for y in range(*years):\n",
    "        averages.append(df[str(y)].mean())\n",
    "\n",
    "    labels = [str(y) for y in range(*years)]\n",
    "    \n",
    "    plt.rcParams['figure.figsize'] = fig_size\n",
    "    plt.rcParams['axes.titlesize'] = title_size\n",
    "    fig, ax = plt.subplots()\n",
    "    indexes = np.arange(len(averages))\n",
    "    \n",
    "    rects = ax.bar(indexes, averages, label=labels, color='orangered')\n",
    "\n",
    "    # add percentages on bars\n",
    "    for rect in rects:\n",
    "        height = rect.get_height()\n",
    "        ax.text(rect.get_x() + rect.get_width()/2., height - 0.18,\n",
    "                str(np.round(height, decimals=2)) + '%',\n",
    "                ha='center', va='bottom', color='w', size=13)\n",
    "        \n",
    "    ax.set_xlabel('Years', size=16)\n",
    "    ax.set_ylabel('Cancellation percentage', size=16)\n",
    "    ax.set_title('Average of cancelled flights percentages', pad=20)\n",
    "    \n",
    "    ax.set_xticks(indexes)\n",
    "    ax.set_xticklabels(labels)\n",
    "    ax.xaxis.set_tick_params(labelsize=14)\n",
    "    ax.legend(loc='best', labels=['Cancellation percentage'])\n",
    "    plt.show()"
   ]
  },
  {
   "cell_type": "code",
   "execution_count": 31,
   "metadata": {},
   "outputs": [],
   "source": [
    "def ui_callback(years):\n",
    "    years = (int(years[0]), int(years[1]) + 1)  #due to range() function\n",
    "    \n",
    "    plot_cancelled_time_series(years)\n",
    "\n",
    "    plot_average_cancelled_flights(years)\n",
    "\n",
    "\n",
    "# Years selection range\n",
    "years_w = widgets.SelectionRangeSlider(options=[(str(y), y) for y in df_years],\n",
    "                                       index=(0, 2),\n",
    "                                       description='Years',\n",
    "                                       continuous_update=False)\n",
    "ui = widgets.HBox([years_w])"
   ]
  },
  {
   "cell_type": "markdown",
   "metadata": {},
   "source": [
    "## Data Visualization\n",
    "\n",
    "Analytics showhing the percentage of daily cancelled flights are reported below."
   ]
  },
  {
   "cell_type": "markdown",
   "metadata": {},
   "source": [
    "### Missing values and valid data"
   ]
  },
  {
   "cell_type": "code",
   "execution_count": 32,
   "metadata": {},
   "outputs": [
    {
     "data": {
      "image/png": "[encoded data removed]",
      "text/plain": [
       "<Figure size 1584x864 with 1 Axes>"
      ]
     },
     "metadata": {},
     "output_type": "display_data"
    }
   ],
   "source": [
    "plot_missing_values_stacked_bar(df_missing)"
   ]
  },
  {
   "cell_type": "markdown",
   "metadata": {},
   "source": [
    "### Percentage of daily cancelled flights\n",
    "\n",
    "A line plot was used to display percentages as a time series. \n",
    "\n",
    "- _x axis_ is the day number, from day 1 (1st of January of the selected year) to 366 (30th of December of the selected year)\n",
    "- _y axis_ reports the daily percentage of cancelled flights\n",
    "\n",
    "Moreover, also bar plot is generated to display the yearly average of cancelled flights.\n",
    "\n",
    "\n",
    "#### Data discoveries\n",
    "\n",
    "- The analytics is performed over the totality of the data. There're no missing values for the analized attributes."
   ]
  },
  {
   "cell_type": "code",
   "execution_count": 33,
   "metadata": {
    "scrolled": false
   },
   "outputs": [
    {
     "data": {
      "application/vnd.jupyter.widget-view+json": {
       "model_id": "d092c53925c74682b18f4ca543847b45",
       "version_major": 2,
       "version_minor": 0
      },
      "text/plain": [
       "HBox(children=(SelectionRangeSlider(continuous_update=False, description='Years', index=(0, 2), options=(('199…"
      ]
     },
     "metadata": {},
     "output_type": "display_data"
    },
    {
     "data": {
      "application/vnd.jupyter.widget-view+json": {
       "model_id": "e82df007fc55489a9bf39de148ac42fb",
       "version_major": 2,
       "version_minor": 0
      },
      "text/plain": [
       "Output()"
      ]
     },
     "metadata": {},
     "output_type": "display_data"
    }
   ],
   "source": [
    "out = widgets.interactive_output(ui_callback, {'years': years_w})\n",
    "display(ui, out)"
   ]
  }
 ],
 "metadata": {
  "kernelspec": {
   "display_name": "Python 3",
   "language": "python",
   "name": "python3"
  },
  "language_info": {
   "codemirror_mode": {
    "name": "ipython",
    "version": 3
   },
   "file_extension": ".py",
   "mimetype": "text/x-python",
   "name": "python",
   "nbconvert_exporter": "python",
   "pygments_lexer": "ipython3",
   "version": "3.5.2"
  }
 },
 "nbformat": 4,
 "nbformat_minor": 2
}
