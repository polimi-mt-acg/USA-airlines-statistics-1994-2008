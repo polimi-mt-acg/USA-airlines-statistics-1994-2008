{
 "cells": [
  {
   "cell_type": "markdown",
   "metadata": {},
   "source": [
    "## Initialize PySpark"
   ]
  },
  {
   "cell_type": "code",
   "execution_count": 1,
   "metadata": {},
   "outputs": [],
   "source": [
    "# Find Apache Spark on this machine\n",
    "import findspark\n",
    "findspark.init()"
   ]
  },
  {
   "cell_type": "code",
   "execution_count": 2,
   "metadata": {},
   "outputs": [],
   "source": [
    "from pyspark.sql import SparkSession\n",
    "\n",
    "# Dev mode: False when performing real analytics\n",
    "DEV = True\n",
    "\n",
    "# Build a Spark SQL Session for DataFrames\n",
    "master = 'local[2]'\n",
    "appName = 'Cancelled flights percentages'\n",
    "spark = SparkSession \\\n",
    "    .builder \\\n",
    "    .appName(appName) \\\n",
    "    .master(master) \\\n",
    "    .getOrCreate()"
   ]
  },
  {
   "cell_type": "markdown",
   "metadata": {},
   "source": [
    "## Load data"
   ]
  },
  {
   "cell_type": "code",
   "execution_count": 3,
   "metadata": {},
   "outputs": [
    {
     "name": "stdout",
     "output_type": "stream",
     "text": [
      "--------- DEV mode ON ---------\n",
      "Starting preprocessing of ../dataset/1994.csv.bz2\n",
      "Preprocessing NOT performed.\n",
      "Preprocessed dataset already exists: ../dataset/preprocessed_dataset_1994.parquet\n",
      "\n"
     ]
    }
   ],
   "source": [
    "from preprocessing_utils import *\n",
    "if DEV:\n",
    "    # DEV preprocessing\n",
    "    perform_DEV_dataset_preprocessing(spark)\n",
    "else:\n",
    "    # Production preprocessing\n",
    "    perform_dataset_preprocessing(spark)"
   ]
  },
  {
   "cell_type": "code",
   "execution_count": 4,
   "metadata": {},
   "outputs": [
    {
     "name": "stdout",
     "output_type": "stream",
     "text": [
      "--------- DEV mode ON ---------\n",
      "Peprocessed dataset loaded.\n",
      "../dataset/preprocessed_dataset_1994.parquet\n"
     ]
    }
   ],
   "source": [
    "# Load the parquet dataset\n",
    "if DEV:\n",
    "    # Load DEV dataset\n",
    "    df = load_DEV_preprocessed_dataset(spark)\n",
    "else:\n",
    "    # Load production dataset\n",
    "    df = load_preprocessed_dataset(spark)"
   ]
  },
  {
   "cell_type": "code",
   "execution_count": 5,
   "metadata": {},
   "outputs": [
    {
     "name": "stdout",
     "output_type": "stream",
     "text": [
      "root\n",
      " |-- Year: integer (nullable = true)\n",
      " |-- Month: integer (nullable = true)\n",
      " |-- DayofMonth: integer (nullable = true)\n",
      " |-- Cancelled: integer (nullable = true)\n",
      "\n",
      "+----+-----+----------+---------+\n",
      "|Year|Month|DayofMonth|Cancelled|\n",
      "+----+-----+----------+---------+\n",
      "|1994|    1|         7|        0|\n",
      "|1994|    1|         8|        0|\n",
      "|1994|    1|        10|        0|\n",
      "|1994|    1|        11|        0|\n",
      "|1994|    1|        12|        0|\n",
      "|1994|    1|        13|        1|\n",
      "|1994|    1|        14|        0|\n",
      "|1994|    1|        15|        0|\n",
      "|1994|    1|        17|        0|\n",
      "|1994|    1|        18|        0|\n",
      "+----+-----+----------+---------+\n",
      "only showing top 10 rows\n",
      "\n"
     ]
    }
   ],
   "source": [
    "# Keep only the dimensions we need\n",
    "df = df.select(df['Year'], df['Month'], df['DayofMonth'], df['Cancelled'])\n",
    "# Explore the data\n",
    "df.printSchema()\n",
    "df.show(10)"
   ]
  },
  {
   "cell_type": "code",
   "execution_count": 6,
   "metadata": {},
   "outputs": [
    {
     "name": "stdout",
     "output_type": "stream",
     "text": [
      "+-------+--------------------+\n",
      "|summary|           Cancelled|\n",
      "+-------+--------------------+\n",
      "|  count|             5180048|\n",
      "|   mean|0.012884050495284986|\n",
      "| stddev|  0.1127743507776497|\n",
      "|    min|                   0|\n",
      "|    max|                   1|\n",
      "+-------+--------------------+\n",
      "\n"
     ]
    }
   ],
   "source": [
    "df.describe('Cancelled').show()"
   ]
  },
  {
   "cell_type": "code",
   "execution_count": 7,
   "metadata": {},
   "outputs": [],
   "source": [
    "# Parse dates to datetime format\n",
    "import datetime\n",
    "import pyspark.sql.functions as F\n",
    "from pyspark.sql.types import TimestampType, IntegerType\n",
    "\n",
    "make_date = lambda year, month, day : datetime.datetime(year, month, day) \n",
    "make_date = F.udf(make_date, TimestampType())\n",
    "\n",
    "\n",
    "#df = df.select(make_date(df['Year'], df['Month'], df['DayofMonth']).alias('Date'), 'Cancelled')\n",
    "df = df.select(df['Year'], df['Month'], df['DayofMonth'], df['Cancelled'])\n",
    "\n",
    "#df.show(10)"
   ]
  },
  {
   "cell_type": "code",
   "execution_count": 8,
   "metadata": {},
   "outputs": [
    {
     "name": "stdout",
     "output_type": "stream",
     "text": [
      "+----+-----+----------+-----+\n",
      "|Year|Month|DayOfMonth|count|\n",
      "+----+-----+----------+-----+\n",
      "|1994|   10|        28|14847|\n",
      "|1994|   12|        26|14751|\n",
      "|1994|    2|        11|14242|\n",
      "|1994|   12|        10|13409|\n",
      "|1994|    4|        13|14450|\n",
      "|1994|    6|        23|14527|\n",
      "|1994|    9|        26|14680|\n",
      "|1994|   12|        11|14158|\n",
      "|1994|   11|        24|11524|\n",
      "|1994|   12|         4|14088|\n",
      "+----+-----+----------+-----+\n",
      "only showing top 10 rows\n",
      "\n",
      "+----+-----+----------+-----+\n",
      "|Year|Month|DayOfMonth|count|\n",
      "+----+-----+----------+-----+\n",
      "|1994|   10|        28|   37|\n",
      "|1994|   12|        26|  159|\n",
      "|1994|    2|        11| 3649|\n",
      "|1994|   12|        10|   80|\n",
      "|1994|    4|        13|  368|\n",
      "|1994|    6|        23|   88|\n",
      "|1994|    9|        26|   59|\n",
      "|1994|   12|        11|   76|\n",
      "|1994|   11|        24|   14|\n",
      "|1994|   12|         4|   80|\n",
      "+----+-----+----------+-----+\n",
      "only showing top 10 rows\n",
      "\n"
     ]
    }
   ],
   "source": [
    "# Cancelled Flights\n",
    "cancelled_flights = df.filter(df['Cancelled'] == 1)\n",
    "\n",
    "# Number of flights per day \n",
    "all_flights_count = df.groupBy(['Year', 'Month', 'DayOfMonth']).count()\n",
    "cancelled_flights_count = cancelled_flights.groupBy(['Year', 'Month', 'DayOfMonth']).count()\n",
    "\n",
    "all_flights_count.show(10)\n",
    "cancelled_flights_count.show(10)"
   ]
  },
  {
   "cell_type": "code",
   "execution_count": 9,
   "metadata": {},
   "outputs": [],
   "source": [
    "#Rename count columns\n",
    "all_flights_count = all_flights_count.select('Year', 'Month', 'DayOfMonth', all_flights_count['count'].alias('total_count'))\n",
    "cancelled_flights_count = cancelled_flights_count.select('Year', 'Month', 'DayOfMonth', cancelled_flights_count['count'].alias('canceled_count'))"
   ]
  },
  {
   "cell_type": "code",
   "execution_count": 10,
   "metadata": {},
   "outputs": [
    {
     "name": "stdout",
     "output_type": "stream",
     "text": [
      "+----+-----+----------+-----------+--------------+\n",
      "|Year|Month|DayOfMonth|total_count|canceled_count|\n",
      "+----+-----+----------+-----------+--------------+\n",
      "|1994|   10|        28|      14847|            37|\n",
      "|1994|   12|        26|      14751|           159|\n",
      "|1994|    2|        11|      14242|          3649|\n",
      "|1994|   12|        10|      13409|            80|\n",
      "|1994|    4|        13|      14450|           368|\n",
      "|1994|    6|        23|      14527|            88|\n",
      "|1994|    9|        26|      14680|            59|\n",
      "|1994|   12|        11|      14158|            76|\n",
      "|1994|   11|        24|      11524|            14|\n",
      "|1994|   12|         4|      14088|            80|\n",
      "+----+-----+----------+-----------+--------------+\n",
      "only showing top 10 rows\n",
      "\n"
     ]
    }
   ],
   "source": [
    "# Join the tables\n",
    "unified_dataset = all_flights_count \\\n",
    "                .join(cancelled_flights_count, ['Year', 'Month', 'DayOfMonth'])\n",
    "    \n",
    "unified_dataset.show(10)"
   ]
  },
  {
   "cell_type": "code",
   "execution_count": 11,
   "metadata": {},
   "outputs": [
    {
     "name": "stdout",
     "output_type": "stream",
     "text": [
      "+----+-----+----------+-----------+--------------+------------------------------+\n",
      "|Year|Month|DayOfMonth|total_count|canceled_count|DailyCanceledFlightsPercentage|\n",
      "+----+-----+----------+-----------+--------------+------------------------------+\n",
      "|1994|   10|        28|      14847|            37|           0.24920859432882064|\n",
      "|1994|   12|        26|      14751|           159|             1.077893024201749|\n",
      "|1994|    2|        11|      14242|          3649|             25.62140148855498|\n",
      "|1994|   12|        10|      13409|            80|            0.5966142143336565|\n",
      "|1994|    4|        13|      14450|           368|             2.546712802768166|\n",
      "|1994|    6|        23|      14527|            88|             0.605768568871756|\n",
      "|1994|    9|        26|      14680|            59|           0.40190735694822893|\n",
      "|1994|   12|        11|      14158|            76|            0.5367989829071903|\n",
      "|1994|   11|        24|      11524|            14|           0.12148559527941688|\n",
      "|1994|   12|         4|      14088|            80|            0.5678591709256104|\n",
      "+----+-----+----------+-----------+--------------+------------------------------+\n",
      "only showing top 10 rows\n",
      "\n"
     ]
    }
   ],
   "source": [
    "unified_dataset = unified_dataset.withColumn(\"DailyCanceledFlightsPercentage\", (F.col(\"canceled_count\") / F.col(\"total_count\"))* 100)\n"
   ]
  },
  {
   "cell_type": "code",
   "execution_count": 14,
   "metadata": {},
   "outputs": [
    {
     "name": "stdout",
     "output_type": "stream",
     "text": [
      "+----+-----+----------+------------------------------+\n",
      "|Year|Month|DayOfMonth|DailyCanceledFlightsPercentage|\n",
      "+----+-----+----------+------------------------------+\n",
      "|1994|   10|        28|           0.24920859432882064|\n",
      "|1994|   12|        26|             1.077893024201749|\n",
      "|1994|    2|        11|             25.62140148855498|\n",
      "|1994|   12|        10|            0.5966142143336565|\n",
      "|1994|    4|        13|             2.546712802768166|\n",
      "|1994|    6|        23|             0.605768568871756|\n",
      "|1994|    9|        26|           0.40190735694822893|\n",
      "|1994|   12|        11|            0.5367989829071903|\n",
      "|1994|   11|        24|           0.12148559527941688|\n",
      "|1994|   12|         4|            0.5678591709256104|\n",
      "+----+-----+----------+------------------------------+\n",
      "only showing top 10 rows\n",
      "\n"
     ]
    }
   ],
   "source": [
    "unified_dataset = unified_dataset.select('Year', 'Month', 'DayOfMonth', 'DailyCanceledFlightsPercentage')\n",
    "unified_dataset.show(10)"
   ]
  },
  {
   "cell_type": "code",
   "execution_count": 15,
   "metadata": {},
   "outputs": [],
   "source": [
    "# Store output Dataframe (or load it if already existing)\n",
    "final_dataset = '../dataset/canceled_analitics.parquet'\n",
    "\n",
    "path= Path(final_dataset)\n",
    "if not path.is_dir():\n",
    "    unified_dataset.write.mode('overwrite').save(final_dataset, format='parquet')\n",
    "unified_dataset = spark.read.load(final_dataset)"
   ]
  },
  {
   "cell_type": "code",
   "execution_count": 16,
   "metadata": {},
   "outputs": [
    {
     "name": "stdout",
     "output_type": "stream",
     "text": [
      "[(1994, 4, 19, 0.3580773998071891), (1994, 4, 27, 1.6102280580511403), (1994, 4, 3, 0.5050135402181073), (1994, 10, 23, 0.2274827610720125), (1994, 10, 30, 0.1984689537850865), (1994, 11, 14, 0.46694186912093116), (1994, 2, 3, 0.7247906551263106), (1994, 3, 1, 1.5824581322736304), (1994, 3, 19, 0.5396949550254204), (1994, 6, 1, 0.25403364229316855), (1994, 9, 3, 0.20145668681233533), (1994, 2, 1, 0.6602768903088392), (1994, 5, 20, 0.19831771866238118), (1994, 7, 25, 0.9267461669505962), (1994, 8, 16, 0.35321287868496126), (1994, 10, 10, 0.24772362078200322), (1994, 10, 16, 0.06376647300552643), (1994, 2, 10, 8.757021460463775), (1994, 3, 31, 0.19327673086215227), (1994, 6, 20, 0.71280276816609), (1994, 8, 28, 0.30164854437039634), (1994, 10, 25, 0.2633889376646181), (1994, 11, 10, 0.7276931447225246), (1994, 4, 11, 0.9873258175197815), (1994, 5, 6, 0.2835604122000138), (1994, 5, 11, 0.2623584645125656), (1994, 1, 13, 2.2400796472763473), (1994, 4, 24, 0.16104238342727473), (1994, 4, 28, 0.8632692843219159), (1994, 5, 12, 0.4978564513898493), (1994, 8, 8, 0.29016802753222215), (1994, 1, 20, 3.1078742428612633), (1994, 6, 6, 0.5723348503654668), (1994, 6, 9, 0.18612987729215497), (1994, 9, 23, 0.649395037254768), (1994, 10, 31, 1.561974011984111), (1994, 3, 15, 0.3091933489075168), (1994, 7, 9, 0.9989716468341413), (1994, 11, 5, 1.1867207450803665), (1994, 11, 26, 0.2364066193853428), (1994, 12, 18, 0.5134336756224503), (1994, 1, 28, 6.977409207892479), (1994, 5, 2, 0.8266759291420632), (1994, 5, 13, 0.2844654131686672), (1994, 8, 19, 0.570690943678239), (1994, 9, 29, 0.25159798721610227), (1994, 1, 5, 4.765613935703159), (1994, 2, 6, 0.5899484728549026), (1994, 2, 21, 2.5163491612169464), (1994, 7, 27, 0.6939247567861759), (1994, 10, 12, 0.24813895781637718), (1994, 2, 15, 0.30128923766816146), (1994, 5, 3, 0.44957808825563705), (1994, 10, 22, 0.60084563459684), (1994, 12, 9, 0.8452048258469088), (1994, 12, 25, 0.6304483188044832), (1994, 1, 29, 4.325963764067364), (1994, 3, 2, 6.069770713180475), (1994, 6, 14, 0.4364694471387003), (1994, 11, 20, 0.45800450958286354), (1994, 12, 24, 0.6402748496915749), (1994, 1, 1, 0.5264023688106596), (1994, 1, 26, 5.9510086455331415), (1994, 3, 11, 0.4080785724166551), (1994, 7, 18, 0.8628889794809077), (1994, 11, 7, 0.41969222570115244), (1994, 11, 17, 0.7075792624846918), (1994, 3, 29, 0.5116857972617895), (1994, 3, 5, 0.4818902533810042), (1994, 10, 13, 0.3408863043914177), (1994, 5, 17, 0.4822929585228055), (1994, 9, 20, 0.2580995720980779), (1994, 9, 7, 0.2483721554675438), (1994, 5, 19, 0.20821765685730148), (1994, 5, 15, 0.1464343242055938), (1994, 7, 8, 1.6365379348123803), (1994, 1, 15, 1.20414673046252), (1994, 2, 16, 0.3561701236119841), (1994, 12, 16, 0.6005596123660684), (1994, 8, 15, 0.7453584496544247), (1994, 12, 14, 0.9224716814759547), (1994, 12, 28, 0.564023366682334), (1994, 1, 17, 17.112681081852564), (1994, 7, 29, 0.4489185144878248), (1994, 7, 14, 1.7633442265795207), (1994, 11, 8, 0.261219022103148), (1994, 9, 19, 0.3128187691261476), (1994, 9, 22, 0.40155175934118287), (1994, 10, 21, 1.0979388387444429), (1994, 11, 29, 0.4709897610921502), (1994, 1, 4, 15.560882746950574), (1994, 1, 9, 1.1112791049289386), (1994, 3, 10, 1.5785813630041723), (1994, 8, 23, 0.47763202152707707), (1994, 5, 9, 0.25584289863089477), (1994, 8, 22, 1.2693082605775687), (1994, 9, 9, 0.5226007872946925), (1994, 10, 6, 0.37657185125411874), (1994, 4, 13, 2.546712802768166), (1994, 6, 23, 0.605768568871756), (1994, 9, 26, 0.40190735694822893), (1994, 12, 11, 0.5367989829071903), (1994, 3, 28, 0.9745231797299179), (1994, 7, 13, 0.7550506768247058), (1994, 10, 14, 0.18916362653695445), (1994, 12, 15, 0.7499318243796018), (1994, 4, 4, 0.35414207346712034), (1994, 6, 18, 0.4199160167966407), (1994, 7, 30, 0.7994132746607994), (1994, 12, 23, 0.5168132089401973), (1994, 3, 25, 0.32026735361693237), (1994, 4, 18, 0.2416459541563104), (1994, 5, 8, 0.2690713402661625), (1994, 12, 13, 0.9178026724254286), (1994, 7, 6, 0.8169378446456533), (1994, 9, 5, 0.15609479211011779), (1994, 10, 4, 0.5777240360069864), (1994, 12, 30, 0.5641269625501257), (1994, 6, 11, 0.6706857573474002), (1994, 6, 28, 0.3035738926452325), (1994, 6, 4, 0.22112085398398781), (1994, 2, 13, 2.7512591144854546), (1994, 2, 14, 0.937742367623211), (1994, 8, 4, 0.676923076923077), (1994, 10, 9, 0.2343417128248828), (1994, 2, 18, 0.20964360587002098), (1994, 3, 24, 0.5014625992478061), (1994, 4, 15, 0.8612169984469857), (1994, 7, 28, 0.8319127173542449), (1994, 2, 24, 3.335457828765668), (1994, 3, 27, 0.6958324080242801), (1994, 3, 30, 0.3447087211306446), (1994, 12, 5, 2.7564146192064247), (1994, 2, 5, 0.677859225979349), (1994, 3, 16, 0.40889874558181444), (1994, 8, 9, 0.19498419955624285), (1994, 11, 22, 0.3320233093915165), (1994, 9, 14, 0.668303327877796), (1994, 9, 8, 0.42810546344115247), (1994, 10, 29, 0.16312004152146511), (1994, 10, 11, 0.18108651911468815), (1994, 7, 16, 0.17692591227423518), (1994, 7, 7, 1.283899759697906), (1994, 4, 17, 0.1394393072068105), (1994, 5, 5, 0.6390220184760714), (1994, 6, 8, 0.19271801225135937), (1994, 1, 14, 1.504349066020248), (1994, 3, 4, 0.7495096665732698), (1994, 8, 5, 0.393103448275862), (1994, 7, 21, 1.747413143287878), (1994, 9, 17, 0.3614457831325301), (1994, 10, 24, 0.6154054236829648), (1994, 4, 7, 0.5395310230338245), (1994, 6, 24, 0.9062170706006323), (1994, 7, 17, 0.19774011299435026), (1994, 1, 21, 1.3328556073092082), (1994, 6, 19, 0.47663753881707227), (1994, 9, 4, 0.2058101796881184), (1994, 2, 17, 0.39428289797930016), (1994, 5, 16, 0.5455047645352852), (1994, 6, 29, 2.899751449875725), (1994, 3, 7, 1.6730199068191443), (1994, 6, 27, 0.6938719428414399), (1994, 8, 25, 0.2693421318429735), (1994, 1, 3, 1.541819205857505), (1994, 2, 19, 0.5033029254482542), (1994, 7, 2, 0.4125286478227655), (1994, 1, 10, 1.8481801444554598), (1994, 3, 3, 9.013711978840398), (1994, 11, 16, 0.8544110666576253), (1994, 3, 12, 0.32517807370703006), (1994, 5, 29, 0.278263634918111), (1994, 10, 19, 0.5580582263161433), (1994, 2, 8, 21.34935304990758), (1994, 4, 21, 0.19581788936289252), (1994, 10, 3, 0.2379495546944048), (1994, 1, 25, 4.026369887289998), (1994, 5, 1, 0.235190357195355), (1994, 7, 31, 0.5270184807813928), (1994, 4, 30, 0.6290285004271181), (1994, 5, 31, 0.2272257797975625), (1994, 6, 5, 0.18158047646717027), (1994, 1, 24, 1.8600407103249808), (1994, 10, 2, 0.22252530328045367), (1994, 12, 20, 0.7866075030254135), (1994, 4, 25, 0.8478699006185281), (1994, 8, 31, 1.7240213643431817), (1994, 9, 10, 0.45312732134898237), (1994, 6, 13, 0.9539725645846389), (1994, 11, 3, 0.38398244651673064), (1994, 12, 27, 0.8909431939978565), (1994, 3, 13, 0.40301897853007984), (1994, 7, 22, 1.581625636088571), (1994, 9, 30, 0.17715998909784683), (1994, 6, 16, 1.042462992563764), (1994, 9, 15, 0.5976636783482749), (1994, 11, 18, 0.65892262753889), (1994, 7, 5, 0.682407533779173), (1994, 8, 17, 0.32573289902280134), (1994, 10, 7, 0.9711356892365794), (1994, 2, 9, 14.133333333333335), (1994, 4, 14, 0.4741319202342769), (1994, 9, 6, 0.12823108591482757), (1994, 1, 23, 1.1328681821592017), (1994, 11, 12, 0.4319976165648741), (1994, 3, 18, 2.0275466685310772), (1994, 6, 2, 0.38162642242575634), (1994, 5, 23, 0.3438553056873668), (1994, 12, 3, 0.9710880600308983), (1994, 2, 23, 12.227817575714589), (1994, 3, 9, 2.636916835699797), (1994, 7, 20, 0.506052109690214), (1994, 12, 8, 0.8653326122228232), (1994, 1, 30, 2.5299299751524735), (1994, 3, 17, 0.8432055749128919), (1994, 4, 2, 0.24150825802430664), (1994, 11, 19, 0.4868692829743287), (1994, 3, 8, 1.5844306178555927), (1994, 4, 9, 0.13909280581098832), (1994, 4, 5, 0.6275712990725891), (1994, 6, 26, 0.3399638336347197), (1994, 1, 31, 1.0229276895943562), (1994, 9, 24, 0.447139067828723), (1994, 1, 8, 9.567631892106307), (1994, 12, 29, 0.3618817852834741), (1994, 4, 1, 0.20645516482003992), (1994, 6, 3, 0.166216496987326), (1994, 11, 24, 0.12148559527941688), (1994, 12, 4, 0.5678591709256104), (1994, 3, 20, 0.16182420007355647), (1994, 6, 25, 0.9863996413092213), (1994, 7, 15, 0.65287609099031), (1994, 11, 30, 0.35608707336737433), (1994, 2, 4, 0.46669495120916415), (1994, 8, 6, 0.235536581775357), (1994, 8, 11, 0.3987025273685633), (1994, 12, 21, 1.2358184764991895), (1994, 5, 30, 0.18706381754083026), (1994, 9, 25, 0.42397240586375395), (1994, 3, 6, 0.33592117049865633), (1994, 11, 25, 0.30379307351792384), (1994, 4, 22, 0.22226852816559006), (1994, 8, 12, 0.24453199293574243), (1994, 7, 1, 0.7563256325632564), (1994, 11, 21, 0.9336941813261163), (1994, 10, 18, 1.802598462689613), (1994, 12, 22, 0.7048399006511378), (1994, 8, 29, 0.27426583717974445), (1994, 11, 15, 0.47904999662640846), (1994, 3, 26, 0.35993740219092335), (1994, 11, 23, 0.13551053594416965), (1994, 5, 14, 0.2873340063679428), (1994, 8, 24, 0.2285714285714286), (1994, 5, 26, 1.1268197088465846), (1994, 7, 12, 0.8371333287960253), (1994, 5, 21, 0.32749428789032753), (1994, 12, 19, 0.5696669124053348), (1994, 1, 6, 5.416755640970887), (1994, 9, 16, 0.3195757122458693), (1994, 8, 10, 0.10808619874349795), (1994, 12, 6, 3.726408596225375), (1994, 6, 12, 0.23138105567606654), (1994, 9, 2, 0.1763548802821678), (1994, 5, 10, 0.3239368667723482), (1994, 6, 17, 0.5368846743829312), (1994, 10, 28, 0.24920859432882064), (1994, 12, 26, 1.077893024201749), (1994, 1, 16, 4.787520172135556), (1994, 10, 1, 0.18000450011250282), (1994, 6, 30, 1.8522358144999653), (1994, 10, 26, 0.2426202992317024), (1994, 3, 22, 0.6623430384986891), (1994, 9, 13, 0.5129589632829373), (1994, 8, 26, 0.4637720123672536), (1994, 9, 28, 0.45507029817292677), (1994, 5, 4, 0.33874870376771515), (1994, 11, 9, 0.8381776395836149), (1994, 1, 11, 1.3738403795765173), (1994, 10, 5, 0.22686328151064256), (1994, 8, 13, 0.5616731948858178), (1994, 12, 7, 2.906135941050892), (1994, 1, 18, 11.705949985628054), (1994, 12, 17, 0.578806767586821), (1994, 7, 26, 2.3397761953204474), (1994, 10, 15, 0.2960988970316086), (1994, 8, 2, 0.9932648479488401), (1994, 11, 6, 0.29880478087649404), (1994, 10, 27, 0.31592390939033405), (1994, 11, 13, 0.2611703254041082), (1994, 4, 12, 0.6645215444879686), (1994, 11, 2, 0.8297644539614561), (1994, 8, 18, 0.19649027711904601), (1994, 9, 21, 0.2845721254827563), (1994, 2, 20, 0.42604081022497947), (1994, 7, 23, 1.49826555465348), (1994, 4, 16, 0.506033476060724), (1994, 10, 20, 1.4324324324324325), (1994, 5, 25, 1.0936526614522046), (1994, 11, 27, 1.7026756331377881), (1994, 2, 28, 0.8550602747406785), (1994, 7, 3, 0.71875), (1994, 2, 12, 7.435979004294577), (1994, 5, 7, 0.3472222222222222), (1994, 4, 23, 0.17719568567026192), (1994, 8, 7, 0.6651570902915369), (1994, 4, 26, 0.8707767328456983), (1994, 5, 18, 0.35822540644805734), (1994, 4, 8, 0.17185674022135147), (1994, 6, 22, 0.40544255085211656), (1994, 5, 24, 0.3236023134122831), (1994, 9, 27, 1.1491921854931386), (1994, 1, 7, 8.754974417282547), (1994, 8, 30, 0.3026634382566586), (1994, 2, 11, 25.62140148855498), (1994, 12, 10, 0.5966142143336565), (1994, 12, 31, 0.992063492063492), (1994, 1, 27, 11.583039378014542), (1994, 9, 1, 0.8923139322652606), (1994, 4, 6, 0.9499860296172116), (1994, 4, 10, 0.2799882110226938), (1994, 1, 19, 7.063008130081301), (1994, 10, 8, 0.39279626472985996), (1994, 11, 4, 0.5020012210840512), (1994, 2, 7, 1.5078578507716267), (1994, 8, 1, 0.6312788487645941), (1994, 6, 15, 0.44778175806007164), (1994, 2, 2, 0.5858685677984047), (1994, 8, 14, 1.4527673446247609), (1994, 2, 25, 9.101847264491472), (1994, 7, 4, 0.4478474429355677), (1994, 1, 12, 7.870958633347451), (1994, 12, 2, 0.6682416469794127), (1994, 5, 22, 0.18814675446848542), (1994, 8, 21, 0.5808599560813205), (1994, 8, 27, 0.39349996356481826), (1994, 4, 29, 0.7521439617601574), (1994, 7, 10, 0.47426913003468535), (1994, 7, 11, 0.35206499661475965), (1994, 3, 14, 0.3117638908133573), (1994, 9, 11, 0.41260581916482897), (1994, 2, 26, 2.263732784549628), (1994, 7, 19, 0.34118048447628796), (1994, 6, 10, 0.23009343187839912), (1994, 3, 21, 0.4100069492703266), (1994, 7, 24, 0.4200783196867212), (1994, 11, 11, 0.2362789441706609), (1994, 6, 7, 0.41450777202072536), (1994, 2, 22, 2.4210675350417667), (1994, 1, 2, 0.4492230650268797), (1994, 2, 27, 0.4113072090936285), (1994, 5, 28, 0.13756271241301182), (1994, 4, 20, 0.28551532033426186), (1994, 8, 20, 0.6883925302087148), (1994, 11, 1, 1.8539898132427841), (1994, 9, 12, 0.3325641373693498), (1994, 3, 23, 0.2767974534634281), (1994, 11, 28, 1.5544397826535525), (1994, 12, 12, 0.6346205779098029), (1994, 9, 18, 0.2664554227279274), (1994, 6, 21, 1.086806988581648), (1994, 8, 3, 0.6918068366793272), (1994, 12, 1, 1.1233631977946243), (1994, 1, 22, 0.9481668773704173), (1994, 10, 17, 0.671915297950319), (1994, 5, 27, 0.3604602800499099)]\n"
     ]
    }
   ],
   "source": [
    "# Output a list of tuples of schema:\n",
    "# ('Data', 'Percentage')\n",
    "cancel_data = unified_dataset.rdd.map(tuple).collect()\n",
    "print(cancel_data[:10000])"
   ]
  },
  {
   "cell_type": "markdown",
   "metadata": {},
   "source": [
    "# Data Visualization"
   ]
  },
  {
   "cell_type": "code",
   "execution_count": 24,
   "metadata": {},
   "outputs": [],
   "source": [
    "# Hide warnings if there are any\n",
    "import warnings\n",
    "warnings.filterwarnings('ignore')\n",
    "\n",
    "%matplotlib ipympl\n",
    "\n",
    "from __future__ import print_function\n",
    "from ipywidgets import interact, interactive, fixed, interact_manual\n",
    "import ipywidgets as widgets\n",
    "\n",
    "import numpy as np\n",
    "import pandas as pd\n",
    "import seaborn as sns\n",
    "import matplotlib.pyplot as plt"
   ]
  },
  {
   "cell_type": "code",
   "execution_count": 29,
   "metadata": {},
   "outputs": [],
   "source": [
    "def get_pd_dataframe(years, df):\n",
    "    rows = df.filter(F.col('Year').isin(*years)) \\\n",
    "             .select('Year', 'Month', 'DayOfMonth', 'DailyCanceledFlightsPercentage') \\\n",
    "             .orderBy(['Year', 'Month', 'DayOfMonth']) \\\n",
    "             .collect()\n",
    "    \n",
    "    nb_years = len(years)\n",
    "    nb_days = 365\n",
    "    data = np.zeros((nb_days, nb_years))\n",
    "    for row in rows:\n",
    "        year = row[0] - years[0]\n",
    "        date_format = str(row[0])\n",
    "        if row[1]<10 :\n",
    "            date_format = date_format + '0' + str(row[1])\n",
    "        else :\n",
    "            \n",
    "            \n",
    "            \n",
    "        date = pd.to_datetime(date_format, format='%Y%m%d')\n",
    "        new_year_day = pd.Timestamp(year=date.year, month=1, day=1)\n",
    "        day = (date - new_year_day).days + 1\n",
    "        pen = row[3]\n",
    "\n",
    "        if day > 364: continue\n",
    "        data[day, year] = pen\n",
    "    columns = [str(y) for y in years]\n",
    "    indices = range(1, 366)\n",
    "    res = pd.DataFrame(data=data, columns=columns, index=indices)\n",
    "    return res\n",
    "#Check sul controllo di anni bisestili\n",
    "\n",
    "def plot_canceled_time_series(years, df,ax):\n",
    "    df = get_pd_dataframe(years, df)\n",
    "    title = 'Daily canceled flights percentage'\n",
    "    if df.empty:\n",
    "        print(df)\n",
    "        print('No data')\n",
    "    else:\n",
    "        print(df)\n",
    "        df.plot(title=title, grid=True, xticks=range(0, 53, 4), ax=ax)"
   ]
  },
  {
   "cell_type": "code",
   "execution_count": 30,
   "metadata": {},
   "outputs": [],
   "source": [
    "def get_average_df(years, df):\n",
    "    rows = df.filter(F.col('Year').isin(*years)) \\\n",
    "             .groupBy('Year') \\\n",
    "             .avg('DailyCanceledFlightsPercentage') \\\n",
    "             .withColumnRenamed('avg(DailyCanceledFlightsPercentage)', 'AverageDailyCanceledFlightsPercentage') \\\n",
    "             .select('Year', 'AverageDailyCanceledFlightsPercentage') \\\n",
    "             .collect()\n",
    "    \n",
    "    nb_years = len(years)\n",
    "    data = np.zeros(nb_years)\n",
    "    for row in rows:\n",
    "        year = row[0] - years[0]\n",
    "        avg_pen = row[1]\n",
    "        data[year] = avg_pen \n",
    "    res = pd.DataFrame({'Canceled flights': data}, index=years)\n",
    "    return res\n",
    "\n",
    "def plot_average_canceled_flights(years, df, ax):\n",
    "    df = get_average_df( years, df)\n",
    "    title = 'Average canceled flights percentage'\n",
    "    if df.empty:\n",
    "        print(df)\n",
    "        print('No data')\n",
    "    else:\n",
    "        print(df)\n",
    "        df.plot.bar(title=title, rot=0 , ax=ax)\n"
   ]
  },
  {
   "cell_type": "code",
   "execution_count": 31,
   "metadata": {},
   "outputs": [],
   "source": [
    "def ui_callback( years, df):\n",
    "    plt.figure(figsize=(15,12))\n",
    "    plt.clf()\n",
    "    ax = plt.subplot(211)\n",
    "    plot_canceled_time_series(range(years[0], years[1] + 1), df, ax)\n",
    "    \n",
    "    ax = plt.subplot(212)\n",
    "    plot_average_canceled_flights(range(years[0], years[1] + 1), df, ax)\n",
    "    \n",
    "    plt.subplots_adjust(top=0.92, bottom=0.08, left=0.10, right=0.95, hspace=0.25,\n",
    "                    wspace=0.35)\n",
    "    plt.show()\n",
    "\n",
    "# Years selection range\n",
    "years = range(1994, 2009)\n",
    "years = [(str(y), y) for y in years]\n",
    "years_w = widgets.SelectionRangeSlider(options=years,\n",
    "                                       index=(0, 2),\n",
    "                                       description='Years',\n",
    "                                       continuous_update=False)\n",
    "ui = widgets.HBox([years_w])"
   ]
  },
  {
   "cell_type": "code",
   "execution_count": 32,
   "metadata": {},
   "outputs": [
    {
     "data": {
      "application/vnd.jupyter.widget-view+json": {
       "model_id": "607085867a4146cda83e3c9e14ea9c4a",
       "version_major": 2,
       "version_minor": 0
      },
      "text/plain": [
       "FigureCanvasNbAgg()"
      ]
     },
     "metadata": {},
     "output_type": "display_data"
    },
    {
     "ename": "AttributeError",
     "evalue": "'Series' object has no attribute 'days'",
     "output_type": "error",
     "traceback": [
      "\u001b[0;31m---------------------------------------------------------------------------\u001b[0m",
      "\u001b[0;31mAttributeError\u001b[0m                            Traceback (most recent call last)",
      "\u001b[0;32m/anaconda3/lib/python3.6/site-packages/ipywidgets/widgets/interaction.py\u001b[0m in \u001b[0;36mobserver\u001b[0;34m(change)\u001b[0m\n\u001b[1;32m     72\u001b[0m         \u001b[0;32mwith\u001b[0m \u001b[0mout\u001b[0m\u001b[0;34m:\u001b[0m\u001b[0;34m\u001b[0m\u001b[0m\n\u001b[1;32m     73\u001b[0m             \u001b[0mclear_output\u001b[0m\u001b[0;34m(\u001b[0m\u001b[0mwait\u001b[0m\u001b[0;34m=\u001b[0m\u001b[0;32mTrue\u001b[0m\u001b[0;34m)\u001b[0m\u001b[0;34m\u001b[0m\u001b[0m\n\u001b[0;32m---> 74\u001b[0;31m             \u001b[0mf\u001b[0m\u001b[0;34m(\u001b[0m\u001b[0;34m**\u001b[0m\u001b[0mkwargs\u001b[0m\u001b[0;34m)\u001b[0m\u001b[0;34m\u001b[0m\u001b[0m\n\u001b[0m\u001b[1;32m     75\u001b[0m             \u001b[0mshow_inline_matplotlib_plots\u001b[0m\u001b[0;34m(\u001b[0m\u001b[0;34m)\u001b[0m\u001b[0;34m\u001b[0m\u001b[0m\n\u001b[1;32m     76\u001b[0m     \u001b[0;32mfor\u001b[0m \u001b[0mk\u001b[0m\u001b[0;34m,\u001b[0m\u001b[0mw\u001b[0m \u001b[0;32min\u001b[0m \u001b[0mcontrols\u001b[0m\u001b[0;34m.\u001b[0m\u001b[0mitems\u001b[0m\u001b[0;34m(\u001b[0m\u001b[0;34m)\u001b[0m\u001b[0;34m:\u001b[0m\u001b[0;34m\u001b[0m\u001b[0m\n",
      "\u001b[0;32m<ipython-input-31-f39edcfc9c9b>\u001b[0m in \u001b[0;36mui_callback\u001b[0;34m(years, df)\u001b[0m\n\u001b[1;32m      3\u001b[0m     \u001b[0mplt\u001b[0m\u001b[0;34m.\u001b[0m\u001b[0mclf\u001b[0m\u001b[0;34m(\u001b[0m\u001b[0;34m)\u001b[0m\u001b[0;34m\u001b[0m\u001b[0m\n\u001b[1;32m      4\u001b[0m     \u001b[0max\u001b[0m \u001b[0;34m=\u001b[0m \u001b[0mplt\u001b[0m\u001b[0;34m.\u001b[0m\u001b[0msubplot\u001b[0m\u001b[0;34m(\u001b[0m\u001b[0;36m211\u001b[0m\u001b[0;34m)\u001b[0m\u001b[0;34m\u001b[0m\u001b[0m\n\u001b[0;32m----> 5\u001b[0;31m     \u001b[0mplot_canceled_time_series\u001b[0m\u001b[0;34m(\u001b[0m\u001b[0mrange\u001b[0m\u001b[0;34m(\u001b[0m\u001b[0myears\u001b[0m\u001b[0;34m[\u001b[0m\u001b[0;36m0\u001b[0m\u001b[0;34m]\u001b[0m\u001b[0;34m,\u001b[0m \u001b[0myears\u001b[0m\u001b[0;34m[\u001b[0m\u001b[0;36m1\u001b[0m\u001b[0;34m]\u001b[0m \u001b[0;34m+\u001b[0m \u001b[0;36m1\u001b[0m\u001b[0;34m)\u001b[0m\u001b[0;34m,\u001b[0m \u001b[0mdf\u001b[0m\u001b[0;34m,\u001b[0m \u001b[0max\u001b[0m\u001b[0;34m)\u001b[0m\u001b[0;34m\u001b[0m\u001b[0m\n\u001b[0m\u001b[1;32m      6\u001b[0m \u001b[0;34m\u001b[0m\u001b[0m\n\u001b[1;32m      7\u001b[0m     \u001b[0max\u001b[0m \u001b[0;34m=\u001b[0m \u001b[0mplt\u001b[0m\u001b[0;34m.\u001b[0m\u001b[0msubplot\u001b[0m\u001b[0;34m(\u001b[0m\u001b[0;36m212\u001b[0m\u001b[0;34m)\u001b[0m\u001b[0;34m\u001b[0m\u001b[0m\n",
      "\u001b[0;32m<ipython-input-29-c5cee58e6c5f>\u001b[0m in \u001b[0;36mplot_canceled_time_series\u001b[0;34m(years, df, ax)\u001b[0m\n\u001b[1;32m     22\u001b[0m \u001b[0;34m\u001b[0m\u001b[0m\n\u001b[1;32m     23\u001b[0m \u001b[0;32mdef\u001b[0m \u001b[0mplot_canceled_time_series\u001b[0m\u001b[0;34m(\u001b[0m\u001b[0myears\u001b[0m\u001b[0;34m,\u001b[0m \u001b[0mdf\u001b[0m\u001b[0;34m,\u001b[0m\u001b[0max\u001b[0m\u001b[0;34m)\u001b[0m\u001b[0;34m:\u001b[0m\u001b[0;34m\u001b[0m\u001b[0m\n\u001b[0;32m---> 24\u001b[0;31m     \u001b[0mdf\u001b[0m \u001b[0;34m=\u001b[0m \u001b[0mget_pd_dataframe\u001b[0m\u001b[0;34m(\u001b[0m\u001b[0myears\u001b[0m\u001b[0;34m,\u001b[0m \u001b[0mdf\u001b[0m\u001b[0;34m)\u001b[0m\u001b[0;34m\u001b[0m\u001b[0m\n\u001b[0m\u001b[1;32m     25\u001b[0m     \u001b[0mtitle\u001b[0m \u001b[0;34m=\u001b[0m \u001b[0;34m'Daily canceled flights percentage'\u001b[0m\u001b[0;34m\u001b[0m\u001b[0m\n\u001b[1;32m     26\u001b[0m     \u001b[0;32mif\u001b[0m \u001b[0mdf\u001b[0m\u001b[0;34m.\u001b[0m\u001b[0mempty\u001b[0m\u001b[0;34m:\u001b[0m\u001b[0;34m\u001b[0m\u001b[0m\n",
      "\u001b[0;32m<ipython-input-29-c5cee58e6c5f>\u001b[0m in \u001b[0;36mget_pd_dataframe\u001b[0;34m(years, df)\u001b[0m\n\u001b[1;32m     10\u001b[0m         \u001b[0mdate\u001b[0m \u001b[0;34m=\u001b[0m \u001b[0mpd\u001b[0m\u001b[0;34m.\u001b[0m\u001b[0mto_datetime\u001b[0m\u001b[0;34m(\u001b[0m\u001b[0mdf_day\u001b[0m\u001b[0;34m,\u001b[0m \u001b[0mformat\u001b[0m\u001b[0;34m=\u001b[0m\u001b[0;34m'%Y%m%d'\u001b[0m\u001b[0;34m)\u001b[0m\u001b[0;34m\u001b[0m\u001b[0m\n\u001b[1;32m     11\u001b[0m         \u001b[0mnew_year_day\u001b[0m \u001b[0;34m=\u001b[0m \u001b[0mpd\u001b[0m\u001b[0;34m.\u001b[0m\u001b[0mTimestamp\u001b[0m\u001b[0;34m(\u001b[0m\u001b[0myear\u001b[0m\u001b[0;34m=\u001b[0m\u001b[0mdf_day\u001b[0m\u001b[0;34m.\u001b[0m\u001b[0myear\u001b[0m\u001b[0;34m,\u001b[0m \u001b[0mmonth\u001b[0m\u001b[0;34m=\u001b[0m\u001b[0;36m1\u001b[0m\u001b[0;34m,\u001b[0m \u001b[0mday\u001b[0m\u001b[0;34m=\u001b[0m\u001b[0;36m1\u001b[0m\u001b[0;34m)\u001b[0m\u001b[0;34m\u001b[0m\u001b[0m\n\u001b[0;32m---> 12\u001b[0;31m         \u001b[0mday\u001b[0m \u001b[0;34m=\u001b[0m \u001b[0;34m(\u001b[0m\u001b[0mdate\u001b[0m \u001b[0;34m-\u001b[0m \u001b[0mnew_year_day\u001b[0m\u001b[0;34m)\u001b[0m\u001b[0;34m.\u001b[0m\u001b[0mdays\u001b[0m \u001b[0;34m+\u001b[0m \u001b[0;36m1\u001b[0m\u001b[0;34m\u001b[0m\u001b[0m\n\u001b[0m\u001b[1;32m     13\u001b[0m         \u001b[0mpen\u001b[0m \u001b[0;34m=\u001b[0m \u001b[0mrow\u001b[0m\u001b[0;34m[\u001b[0m\u001b[0;36m3\u001b[0m\u001b[0;34m]\u001b[0m\u001b[0;34m\u001b[0m\u001b[0m\n\u001b[1;32m     14\u001b[0m \u001b[0;34m\u001b[0m\u001b[0m\n",
      "\u001b[0;32m/anaconda3/lib/python3.6/site-packages/pandas/core/generic.py\u001b[0m in \u001b[0;36m__getattr__\u001b[0;34m(self, name)\u001b[0m\n\u001b[1;32m   3612\u001b[0m             \u001b[0;32mif\u001b[0m \u001b[0mname\u001b[0m \u001b[0;32min\u001b[0m \u001b[0mself\u001b[0m\u001b[0;34m.\u001b[0m\u001b[0m_info_axis\u001b[0m\u001b[0;34m:\u001b[0m\u001b[0;34m\u001b[0m\u001b[0m\n\u001b[1;32m   3613\u001b[0m                 \u001b[0;32mreturn\u001b[0m \u001b[0mself\u001b[0m\u001b[0;34m[\u001b[0m\u001b[0mname\u001b[0m\u001b[0;34m]\u001b[0m\u001b[0;34m\u001b[0m\u001b[0m\n\u001b[0;32m-> 3614\u001b[0;31m             \u001b[0;32mreturn\u001b[0m \u001b[0mobject\u001b[0m\u001b[0;34m.\u001b[0m\u001b[0m__getattribute__\u001b[0m\u001b[0;34m(\u001b[0m\u001b[0mself\u001b[0m\u001b[0;34m,\u001b[0m \u001b[0mname\u001b[0m\u001b[0;34m)\u001b[0m\u001b[0;34m\u001b[0m\u001b[0m\n\u001b[0m\u001b[1;32m   3615\u001b[0m \u001b[0;34m\u001b[0m\u001b[0m\n\u001b[1;32m   3616\u001b[0m     \u001b[0;32mdef\u001b[0m \u001b[0m__setattr__\u001b[0m\u001b[0;34m(\u001b[0m\u001b[0mself\u001b[0m\u001b[0;34m,\u001b[0m \u001b[0mname\u001b[0m\u001b[0;34m,\u001b[0m \u001b[0mvalue\u001b[0m\u001b[0;34m)\u001b[0m\u001b[0;34m:\u001b[0m\u001b[0;34m\u001b[0m\u001b[0m\n",
      "\u001b[0;31mAttributeError\u001b[0m: 'Series' object has no attribute 'days'"
     ]
    },
    {
     "data": {
      "application/vnd.jupyter.widget-view+json": {
       "model_id": "3d2dd460fce346cc8f20ccc8937526a9",
       "version_major": 2,
       "version_minor": 0
      },
      "text/plain": [
       "HBox(children=(SelectionRangeSlider(continuous_update=False, description='Years', index=(0, 2), options=(('199…"
      ]
     },
     "metadata": {},
     "output_type": "display_data"
    },
    {
     "data": {
      "application/vnd.jupyter.widget-view+json": {
       "model_id": "13f510f8539f4dc4babf9e076e596192",
       "version_major": 2,
       "version_minor": 0
      },
      "text/plain": [
       "Output()"
      ]
     },
     "metadata": {},
     "output_type": "display_data"
    }
   ],
   "source": [
    "out = widgets.interactive_output(ui_callback, {'years': years_w, 'df': widgets.fixed(unified_dataset)})\n",
    "display(ui, out)"
   ]
  },
  {
   "cell_type": "code",
   "execution_count": null,
   "metadata": {},
   "outputs": [],
   "source": []
  },
  {
   "cell_type": "code",
   "execution_count": null,
   "metadata": {},
   "outputs": [],
   "source": []
  }
 ],
 "metadata": {
  "kernelspec": {
   "display_name": "Python 3",
   "language": "python",
   "name": "python3"
  },
  "language_info": {
   "codemirror_mode": {
    "name": "ipython",
    "version": 3
   },
   "file_extension": ".py",
   "mimetype": "text/x-python",
   "name": "python",
   "nbconvert_exporter": "python",
   "pygments_lexer": "ipython3",
   "version": "3.6.4"
  }
 },
 "nbformat": 4,
 "nbformat_minor": 2
}
