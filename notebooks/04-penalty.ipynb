{
 "cells": [
  {
   "cell_type": "markdown",
   "metadata": {},
   "source": [
    "# Airport weekly penalty for arrivals and departures delays \n",
    "\n",
    "In this notebook we compute a weekly \"**penalty**\" score for each airport that depends on both the its incoming and outgoing flights. The score adds `0.5` for each incoming flight that is more than _15 minutes_ late, and `1` for\n",
    "each outgoing flight that is more than _15 minutes_ late.\n",
    "\n",
    "Formally speaking, let $w = \\{1, 2, \\ldots, 52 \\}$ be the _week number_ in a year $y$ and $f$ be a flight _leaving from_ or _arriving to_ $airport$ on week $w$ of year $year$. Then we compute the weekly penalties as the following:"
   ]
  },
  {
   "cell_type": "markdown",
   "metadata": {},
   "source": [
    "$$ ArrivalPenalty(f, y, w) = \\begin{cases} 0.5 & \\mbox{if } ArrDelay(f) > 15\\mbox{ seconds}\\\\\n",
    "                                           0 & \\mbox{otherwise}\n",
    "                                 \\end{cases}\n",
    "$$"
   ]
  },
  {
   "cell_type": "markdown",
   "metadata": {},
   "source": [
    "$$ DeparturePenalty(f, y, w) = \\begin{cases} 1 & \\mbox{if } DepDelay(f) > 15\\mbox{ seconds}\\\\\n",
    "                                             0 & \\mbox{otherwise}\n",
    "                                   \\end{cases}\n",
    "$$"
   ]
  },
  {
   "cell_type": "markdown",
   "metadata": {},
   "source": [
    "$$ WeeklyPenalty(airport, y, w) = \\sum_{f} ArrivalPenalty(f, y, w) + DeparturePenalty(f, y, w) \\\\\n",
    "$$"
   ]
  },
  {
   "cell_type": "markdown",
   "metadata": {},
   "source": [
    "#### Execution mode\n",
    "\n",
    "If development mode is turned on, all the calculations will be performed on a reduced instance of the data set.\n",
    "\n",
    "This allows to *save computation time* while developing."
   ]
  },
  {
   "cell_type": "code",
   "execution_count": 1,
   "metadata": {},
   "outputs": [],
   "source": [
    "# development mode\n",
    "# False when performing real analytics\n",
    "DEV = False\n",
    "\n",
    "### threads to be used to run spark worker nodes locally\n",
    "spark_local_threads = 4\n",
    "\n",
    "# default transformed dataset path\n",
    "transformed_dataset_path = '../dataset/04_cache_airport_weekly_penalty.parquet'\n",
    "missings_dataframe_path = '../dataset/04_cache_airport_weekly_penalty_missings.pkl'"
   ]
  },
  {
   "cell_type": "markdown",
   "metadata": {},
   "source": [
    "#### Find and import Apache Spark on current machine"
   ]
  },
  {
   "cell_type": "code",
   "execution_count": 2,
   "metadata": {},
   "outputs": [],
   "source": [
    "import findspark\n",
    "findspark.init()"
   ]
  },
  {
   "cell_type": "code",
   "execution_count": 3,
   "metadata": {},
   "outputs": [],
   "source": [
    "# imports\n",
    "import pickle\n",
    "\n",
    "from pyspark.sql import SparkSession\n",
    "import pyspark.sql.functions as F\n",
    "from pyspark.sql.types import *\n",
    "\n",
    "from pathlib import Path\n",
    "\n",
    "from missing_values_utils import *"
   ]
  },
  {
   "cell_type": "markdown",
   "metadata": {},
   "source": [
    "#### Create a new session"
   ]
  },
  {
   "cell_type": "code",
   "execution_count": 4,
   "metadata": {},
   "outputs": [],
   "source": [
    "# Build a Spark SQL Session for DataFrames\n",
    "master = 'local[{}]'.format(spark_local_threads)\n",
    "appName = 'Airport weekly penalty'\n",
    "spark = SparkSession  \\\n",
    "    .builder          \\\n",
    "    .appName(appName) \\\n",
    "    .master(master)   \\\n",
    "    .getOrCreate()"
   ]
  },
  {
   "cell_type": "markdown",
   "metadata": {},
   "source": [
    "### Load data\n",
    "\n",
    "Try to load the optimized parquet format data set. If parquet data set is not found, load full compressed data sets, reduce and save them."
   ]
  },
  {
   "cell_type": "code",
   "execution_count": 5,
   "metadata": {},
   "outputs": [
    {
     "name": "stdout",
     "output_type": "stream",
     "text": [
      "Starting preprocessing of ../dataset/*.csv.bz2\n",
      "Preprocessing NOT performed.\n",
      "Preprocessed dataset already exists: ../dataset/preprocessed_dataset.parquet\n",
      "\n"
     ]
    }
   ],
   "source": [
    "from preprocessing_utils import *\n",
    "\n",
    "if DEV:\n",
    "    # DEV preprocessing\n",
    "    perform_DEV_dataset_preprocessing(spark)\n",
    "else:\n",
    "    # Production preprocessing\n",
    "    perform_dataset_preprocessing(spark)"
   ]
  },
  {
   "cell_type": "code",
   "execution_count": 6,
   "metadata": {},
   "outputs": [
    {
     "name": "stdout",
     "output_type": "stream",
     "text": [
      "Peprocessed dataset loaded.\n",
      "../dataset/preprocessed_dataset.parquet\n"
     ]
    }
   ],
   "source": [
    "# Load the parquet dataset\n",
    "if DEV:\n",
    "    # Load DEV dataset\n",
    "    df = load_DEV_preprocessed_dataset(spark)\n",
    "else:\n",
    "    # Load production dataset\n",
    "    df = load_preprocessed_dataset(spark)"
   ]
  },
  {
   "cell_type": "markdown",
   "metadata": {},
   "source": [
    "### Attributes selection"
   ]
  },
  {
   "cell_type": "code",
   "execution_count": 7,
   "metadata": {},
   "outputs": [],
   "source": [
    "# Keep only the dimensions we need\n",
    "df = df.select('Year', 'Month', 'DayofMonth', 'ArrTime', 'DepTime', 'ArrDelay', 'DepDelay', 'Origin', 'Dest')\n",
    "# Explore the data\n",
    "#df.printSchema()"
   ]
  },
  {
   "cell_type": "markdown",
   "metadata": {},
   "source": [
    "### Missing values exploration and exclusion"
   ]
  },
  {
   "cell_type": "code",
   "execution_count": 8,
   "metadata": {},
   "outputs": [
    {
     "data": {
      "text/plain": [
       "91469371"
      ]
     },
     "execution_count": 8,
     "metadata": {},
     "output_type": "execute_result"
    }
   ],
   "source": [
    "df.count()"
   ]
  },
  {
   "cell_type": "code",
   "execution_count": 9,
   "metadata": {},
   "outputs": [
    {
     "name": "stdout",
     "output_type": "stream",
     "text": [
      "Years examined:\n",
      " [1994, 1995, 1996, 1997, 1998, 1999, 2000, 2001, 2002, 2003, 2004, 2005, 2006, 2007, 2008]\n",
      "\n",
      "Missing values inspection:\n",
      "0  null values in:  Year\n",
      "0  null values in:  Month\n",
      "0  null values in:  DayofMonth\n",
      "2148475  null values in:  ArrTime\n",
      "1949479  null values in:  DepTime\n",
      "2151526  null values in:  ArrDelay\n",
      "1949479  null values in:  DepDelay\n",
      "0  null values in:  Origin\n",
      "0  null values in:  Dest\n",
      "\n",
      "\n",
      "        Count  MissingsCount  MissingsPercentage\n",
      "1994  5180048          78846            0.015221\n",
      "1995  5327435         102397            0.019221\n",
      "1996  5351983         142657            0.026655\n",
      "1997  5411843         109844            0.020297\n",
      "1998  5384721         157670            0.029281\n",
      "1999  5527884         167866            0.030367\n",
      "2000  5683047         201744            0.035499\n",
      "2001  5967780         244107            0.040904\n",
      "2002  5271359          73499            0.013943\n",
      "2003  6488540         112851            0.017392\n",
      "2004  7129270         141541            0.019854\n",
      "2005  7140596         147758            0.020693\n",
      "2006  7141922         138120            0.019339\n",
      "2007  7453215         177927            0.023873\n",
      "2008  7009728         154699            0.022069\n"
     ]
    }
   ],
   "source": [
    "df, df_missing = get_df_missing_and_drop_all_null(df, False, missings_dataframe_path)"
   ]
  },
  {
   "cell_type": "code",
   "execution_count": 10,
   "metadata": {},
   "outputs": [
    {
     "data": {
      "text/plain": [
       "89317845"
      ]
     },
     "execution_count": 10,
     "metadata": {},
     "output_type": "execute_result"
    }
   ],
   "source": [
    "df.count()"
   ]
  },
  {
   "cell_type": "code",
   "execution_count": 11,
   "metadata": {},
   "outputs": [
    {
     "name": "stdout",
     "output_type": "stream",
     "text": [
      "root\n",
      " |-- Year: integer (nullable = true)\n",
      " |-- Month: integer (nullable = true)\n",
      " |-- DayofMonth: integer (nullable = true)\n",
      " |-- ArrTime: string (nullable = true)\n",
      " |-- DepTime: string (nullable = true)\n",
      " |-- ArrDelay: string (nullable = true)\n",
      " |-- DepDelay: string (nullable = true)\n",
      " |-- Origin: string (nullable = true)\n",
      " |-- Dest: string (nullable = true)\n",
      "\n"
     ]
    }
   ],
   "source": [
    "df.printSchema()"
   ]
  },
  {
   "cell_type": "code",
   "execution_count": 12,
   "metadata": {},
   "outputs": [
    {
     "name": "stdout",
     "output_type": "stream",
     "text": [
      "root\n",
      " |-- Year: integer (nullable = true)\n",
      " |-- Month: integer (nullable = true)\n",
      " |-- DayofMonth: integer (nullable = true)\n",
      " |-- ArrDelay: string (nullable = true)\n",
      " |-- DepDelay: string (nullable = true)\n",
      " |-- Origin: string (nullable = true)\n",
      " |-- Dest: string (nullable = true)\n",
      "\n"
     ]
    }
   ],
   "source": [
    "df = df.select('Year', 'Month', 'DayofMonth', 'ArrDelay', 'DepDelay', 'Origin', 'Dest')\n",
    "# Explore the data\n",
    "df.printSchema()"
   ]
  },
  {
   "cell_type": "code",
   "execution_count": 13,
   "metadata": {},
   "outputs": [],
   "source": [
    "# cast delays to integer\n",
    "df = df.withColumn('ArrDelay', df['ArrDelay'].cast(IntegerType()))\n",
    "df = df.withColumn('DepDelay', df['DepDelay'].cast(IntegerType()))"
   ]
  },
  {
   "cell_type": "code",
   "execution_count": 14,
   "metadata": {},
   "outputs": [
    {
     "name": "stdout",
     "output_type": "stream",
     "text": [
      "root\n",
      " |-- Year: integer (nullable = true)\n",
      " |-- Month: integer (nullable = true)\n",
      " |-- DayofMonth: integer (nullable = true)\n",
      " |-- ArrDelay: integer (nullable = true)\n",
      " |-- DepDelay: integer (nullable = true)\n",
      " |-- Origin: string (nullable = true)\n",
      " |-- Dest: string (nullable = true)\n",
      "\n"
     ]
    }
   ],
   "source": [
    "df.printSchema()"
   ]
  },
  {
   "cell_type": "markdown",
   "metadata": {},
   "source": [
    "### Compute weekly-penalty analytics"
   ]
  },
  {
   "cell_type": "code",
   "execution_count": 15,
   "metadata": {},
   "outputs": [],
   "source": [
    "# compute the week number\n",
    "\n",
    "# function to get the week number\n",
    "def week_year(year, month, day):\n",
    "    import datetime\n",
    "    date = datetime.datetime(year, month, day) \n",
    "    return date.isocalendar()[1]\n",
    "week_year = F.udf(week_year, IntegerType())\n",
    "\n",
    "df = df.withColumn('WeekOfYear', week_year(df['Year'], df['Month'], df['DayofMonth']))"
   ]
  },
  {
   "cell_type": "code",
   "execution_count": 16,
   "metadata": {
    "scrolled": false
   },
   "outputs": [],
   "source": [
    "# Flights that are more than 15 minutes late\n",
    "left_late = df.filter(df['DepDelay'] > 15)\n",
    "arrived_late = df.filter(df['ArrDelay'] > 15)\n",
    "\n",
    "# Number of times per week an airport had a departure or an arrival more than 15 minutes late\n",
    "incoming_late = arrived_late.groupBy(['Year', 'WeekOfYear', arrived_late['Dest'].alias('Airport')]).count()\n",
    "outgoing_late = left_late.groupBy(['Year', 'WeekOfYear', left_late['Origin'].alias('Airport')]).count()\n",
    "\n",
    "#incoming_late.show(10)\n",
    "#outgoing_late.show(10)"
   ]
  },
  {
   "cell_type": "code",
   "execution_count": 17,
   "metadata": {},
   "outputs": [],
   "source": [
    "# Penalties on arrivals and departures\n",
    "incoming_factor = 0.5\n",
    "outgoing_factor = 1.0\n",
    "\n",
    "incoming_penalty = incoming_late.select('Year', 'WeekOfYear', 'Airport', (incoming_late['count'] * incoming_factor).alias('Penalty'))\n",
    "outgoing_penalty = outgoing_late.select('Year', 'WeekOfYear', 'Airport', (outgoing_late['count'] * outgoing_factor).alias('Penalty'))\n",
    "\n",
    "#incoming_penalty.show(10)\n",
    "#outgoing_penalty.show(10)"
   ]
  },
  {
   "cell_type": "code",
   "execution_count": 18,
   "metadata": {},
   "outputs": [],
   "source": [
    "# Sum up the penalties\n",
    "penalties = incoming_penalty.unionAll(outgoing_penalty)               \\\n",
    "                            .groupBy('Year', 'WeekOfYear', 'Airport') \\\n",
    "                            .sum('Penalty')                           \\\n",
    "                            .withColumnRenamed('sum(Penalty)', 'WeeklyPenalty')\n",
    "\n",
    "# penalties.show(10)"
   ]
  },
  {
   "cell_type": "code",
   "execution_count": 19,
   "metadata": {},
   "outputs": [],
   "source": [
    "# Store output Dataframe (or load it if already existing)\n",
    "if not Path(transformed_dataset_path).is_dir():\n",
    "    penalties.write.mode('overwrite').save(transformed_dataset_path, format='parquet')\n",
    "\n",
    "penalties = spark.read.load(transformed_dataset_path)"
   ]
  },
  {
   "cell_type": "code",
   "execution_count": 20,
   "metadata": {},
   "outputs": [
    {
     "name": "stdout",
     "output_type": "stream",
     "text": [
      "[(2007, 2, 'DTW', 784.5), (2007, 3, 'TUL', 209.0), (2007, 2, 'PSP', 96.0), (2007, 3, 'GRB', 67.0), (2007, 2, 'GTF', 12.5), (2007, 5, 'MLU', 27.0), (2007, 3, 'SJT', 13.5), (2007, 5, 'FAI', 16.0), (2007, 7, 'DAY', 148.0), (2007, 8, 'DAB', 30.0)]\n"
     ]
    }
   ],
   "source": [
    "# Output a list of tuples of schema:\n",
    "# ('Year', 'WeekYear', 'Airport', 'WeeklyPenalty')\n",
    "penalty_data = penalties.rdd.map(tuple).collect()\n",
    "print(penalty_data[:10])\n",
    "\n",
    "# Airports\n",
    "airports = penalties.select('Airport').distinct().orderBy('Airport').rdd.map(lambda x : x[0]).collect()"
   ]
  },
  {
   "cell_type": "markdown",
   "metadata": {},
   "source": [
    "##### Data visualization functions\n",
    "\n",
    "Scroll down to see the charts"
   ]
  },
  {
   "cell_type": "code",
   "execution_count": 21,
   "metadata": {},
   "outputs": [],
   "source": [
    "# Hide warnings if there are any\n",
    "import warnings\n",
    "warnings.filterwarnings('ignore')\n",
    "\n",
    "%matplotlib inline\n",
    "\n",
    "from ipywidgets import interact, interactive, fixed, interact_manual\n",
    "import ipywidgets as widgets\n",
    "\n",
    "import numpy as np\n",
    "import pandas as pd\n",
    "import seaborn as sns\n",
    "import matplotlib.pyplot as plt"
   ]
  },
  {
   "cell_type": "markdown",
   "metadata": {},
   "source": [
    "#### Weekly penalties over a year analytics "
   ]
  },
  {
   "cell_type": "code",
   "execution_count": 22,
   "metadata": {},
   "outputs": [],
   "source": [
    "def get_pd_dataframe(airport, years, df):\n",
    "    rows = df.filter(F.col('Airport') == airport) \\\n",
    "             .filter(F.col('Year').isin(*years)) \\\n",
    "             .select('Year', 'WeekOfYear', 'WeeklyPenalty') \\\n",
    "             .orderBy('Year', 'WeekOfYear') \\\n",
    "             .collect()\n",
    "    \n",
    "    nb_years = len(years)\n",
    "    nb_weeks = 52\n",
    "    data = np.zeros((nb_weeks, nb_years))\n",
    "    for row in rows:\n",
    "        year = row[0] - years[0]\n",
    "        week = row[1] - 1\n",
    "        pen = row[2]\n",
    "\n",
    "        if week > 51: continue\n",
    "        data[week, year] = pen\n",
    "    columns = [str(y) for y in years]\n",
    "    indices = range(1, 53)\n",
    "    res = pd.DataFrame(data=data, columns=columns, index=indices)\n",
    "    return res\n",
    "\n",
    "def plot_penalty_time_series(airport, years, df, ax):\n",
    "    df = get_pd_dataframe(airport, years, df)\n",
    "    title = '{} Airport - Weekly penalty'.format(airport)\n",
    "    if df.empty:\n",
    "        print('No data for airport {}'.format(airport))\n",
    "    else:\n",
    "        df.plot(title=title, grid=True, xticks=range(0, 53, 4), ax=ax)"
   ]
  },
  {
   "cell_type": "markdown",
   "metadata": {},
   "source": [
    "#### Average penalty in a year"
   ]
  },
  {
   "cell_type": "code",
   "execution_count": 23,
   "metadata": {},
   "outputs": [],
   "source": [
    "def get_average_df(airport, years, df):\n",
    "    rows = df.filter(F.col('Airport') == airport) \\\n",
    "             .filter(F.col('Year').isin(*years)) \\\n",
    "             .groupBy('Year') \\\n",
    "             .avg('WeeklyPenalty') \\\n",
    "             .withColumnRenamed('avg(WeeklyPenalty)', 'AveragePenalty') \\\n",
    "             .select('Year', 'AveragePenalty') \\\n",
    "             .collect()\n",
    "    \n",
    "    nb_years = len(years)\n",
    "    data = np.zeros(nb_years)\n",
    "    for row in rows:\n",
    "        year = row[0] - years[0]\n",
    "        avg_pen = row[1]\n",
    "        data[year] = avg_pen \n",
    "    res = pd.DataFrame({airport: data}, index=years)\n",
    "    return res\n",
    "\n",
    "def plot_average_penalty(airport, years, df, ax):\n",
    "    df = get_average_df(airport, years, df)\n",
    "    title = '{} Airport - Average Penalties'.format(airport)\n",
    "    if df.empty:\n",
    "        print('No data for airport {}'.format(airport))\n",
    "    else:\n",
    "        df.plot.bar(y=airport, title=title, rot=90, ax=ax, legend=False)"
   ]
  },
  {
   "cell_type": "code",
   "execution_count": 24,
   "metadata": {},
   "outputs": [],
   "source": [
    "def ui_callback(airport, years, df):\n",
    "    plt.figure(figsize=(15,12))\n",
    "    plt.clf()\n",
    "    ax = plt.subplot(211)\n",
    "    plot_penalty_time_series(airport, range(years[0], years[1] + 1), df, ax)\n",
    "    \n",
    "    ax = plt.subplot(212)\n",
    "    plot_average_penalty(airport, range(years[0], years[1] + 1), df, ax)\n",
    "    plt.subplots_adjust(top=0.92, bottom=0.08, left=0.10, right=0.95, hspace=0.25,\n",
    "                    wspace=0.35)\n",
    "    plt.show()\n",
    "\n",
    "# Years selection range\n",
    "years = range(1994, 2009)\n",
    "years = [(str(y), y) for y in years]\n",
    "years_w = widgets.SelectionRangeSlider(options=years,\n",
    "                                       index=(0, 2),\n",
    "                                       description='Years',\n",
    "                                       continuous_update=False)\n",
    "# Airport selection menu\n",
    "airports_w = widgets.Dropdown(options=airports,\n",
    "                              value=airports[0],\n",
    "                              description='Airport')\n",
    "\n",
    "out = widgets.interactive_output(ui_callback, {'airport': airports_w, 'years': years_w, 'df': widgets.fixed(penalties)})\n",
    "ui = widgets.HBox([airports_w, years_w])"
   ]
  },
  {
   "cell_type": "markdown",
   "metadata": {},
   "source": [
    "## Data Visualization\n",
    "\n",
    "Analytics for airports weekly penalty are reported below."
   ]
  },
  {
   "cell_type": "markdown",
   "metadata": {},
   "source": [
    "### Missing values and valid data"
   ]
  },
  {
   "cell_type": "code",
   "execution_count": 25,
   "metadata": {},
   "outputs": [
    {
     "data": {
      "image/png": "[encoded data removed]",
      "text/plain": [
       "<Figure size 1584x864 with 1 Axes>"
      ]
     },
     "metadata": {
      "needs_background": "light"
     },
     "output_type": "display_data"
    }
   ],
   "source": [
    "plot_missing_values_stacked_bar(df_missing)"
   ]
  },
  {
   "cell_type": "markdown",
   "metadata": {},
   "source": [
    "### Airports weekly penalty\n",
    "\n",
    "A **line plot** is used to display penalties as a time series. On the `x` axis the week number is reported, while on the `y` axis we show the weekly penalty.\n",
    "\n",
    "Moreover, a **bar plot** is chosen to display the *yearly average* weekly-penalty of a given airport."
   ]
  },
  {
   "cell_type": "code",
   "execution_count": 26,
   "metadata": {
    "scrolled": false
   },
   "outputs": [
    {
     "data": {
      "application/vnd.jupyter.widget-view+json": {
       "model_id": "47d85b7f99134e5c9f32f2147e683ec3",
       "version_major": 2,
       "version_minor": 0
      },
      "text/plain": [
       "HBox(children=(Dropdown(description='Airport', options=('ABE', 'ABI', 'ABQ', 'ABY', 'ACK', 'ACT', 'ACV', 'ACY'…"
      ]
     },
     "metadata": {},
     "output_type": "display_data"
    },
    {
     "data": {
      "application/vnd.jupyter.widget-view+json": {
       "model_id": "195da0e88f3d47699739d173bd866f81",
       "version_major": 2,
       "version_minor": 0
      },
      "text/plain": [
       "Output()"
      ]
     },
     "metadata": {},
     "output_type": "display_data"
    }
   ],
   "source": [
    "display(ui, out)"
   ]
  }
 ],
 "metadata": {
  "kernelspec": {
   "display_name": "Python 3",
   "language": "python",
   "name": "python3"
  },
  "language_info": {
   "codemirror_mode": {
    "name": "ipython",
    "version": 3
   },
   "file_extension": ".py",
   "mimetype": "text/x-python",
   "name": "python",
   "nbconvert_exporter": "python",
   "pygments_lexer": "ipython3",
   "version": "3.5.2"
  }
 },
 "nbformat": 4,
 "nbformat_minor": 2
}
